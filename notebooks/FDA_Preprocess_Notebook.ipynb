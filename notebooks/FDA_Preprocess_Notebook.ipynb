{
 "cells": [
  {
   "cell_type": "markdown",
   "metadata": {},
   "source": [
    "### Import Packages and Datasets"
   ]
  },
  {
   "cell_type": "markdown",
   "metadata": {},
   "source": [
    "To begin working with the FDA recall data, first import the necessary general packages and set your directory paths."
   ]
  },
  {
   "cell_type": "code",
   "execution_count": 1,
   "metadata": {
    "collapsed": true
   },
   "outputs": [],
   "source": [
    "import os\n",
    "import pandas as pd\n",
    "import csv\n",
    "import re"
   ]
  },
  {
   "cell_type": "code",
   "execution_count": 2,
   "metadata": {
    "collapsed": true
   },
   "outputs": [],
   "source": [
    "wd = os.getcwd()\n",
    "data_dir = os.path.join(wd,\"..\",\"data\")\n",
    "github_data_dir = os.path.join(wd,\"..\",\"github_data\")\n",
    "code_dir = os.path.join(wd,\"..\",\"code\")"
   ]
  },
  {
   "cell_type": "markdown",
   "metadata": {},
   "source": [
    "Next import our packages for processing UPCs [Insert Links?] [This will be changed to an import when functions are put in modules]"
   ]
  },
  {
   "cell_type": "code",
   "execution_count": 3,
   "metadata": {
    "collapsed": false
   },
   "outputs": [],
   "source": [
    "run \"../code/FDA_Preprocess.py\""
   ]
  },
  {
   "cell_type": "markdown",
   "metadata": {},
   "source": [
    "Finally, import the FDA Recall Press Release Data and FDA Recall Enforcement Report Data, and read them into a Pandas DataFrame. [Give background information or download links here?]"
   ]
  },
  {
   "cell_type": "code",
   "execution_count": 20,
   "metadata": {
    "collapsed": false
   },
   "outputs": [],
   "source": [
    "press = pd.read_csv(os.path.join(data_dir, \"FDA_recalls.csv\"),skip_blank_lines = True,encoding='ISO-8859-1')\n",
    "enforce = pd.read_csv(os.path.join(data_dir,\"FDA_food_enforcements_2012-06_to_2016-07.csv\"), encoding = 'ISO-8859-1')"
   ]
  },
  {
   "cell_type": "markdown",
   "metadata": {},
   "source": [
    "The rows in the DataFrame correspond to an individual FDA recall. Each recall is associated with a single company and reason for recall, but may be associated with more than one product. The columns containing the information concerning the recalls vary between the two datasets, with the `enforce` data containing more detailed and FDA-specific information then the `press` data. "
   ]
  },
  {
   "cell_type": "code",
   "execution_count": 21,
   "metadata": {
    "collapsed": false,
    "scrolled": true
   },
   "outputs": [
    {
     "data": {
      "text/plain": [
       "DATE                                      Fri, 01 May 2015 20:41:00 -0400\n",
       "BRAND_NAME                                               Sun Rich, Subway\n",
       "PRODUCT_DESCRIPTION     Apple slices, apple slices with Dip, Sunshine ...\n",
       "REASON                                             Listeria monocytogenes\n",
       "COMPANY                                              Sun Rich Fresh Foods\n",
       "COMPANY_RELEASE_LINK      http://www.fda.gov/Safety/Recalls/ucm445391.htm\n",
       "PHOTOS_LINK             \\r\\t\\t\\thttp://www.fda.gov/Safety/Recalls/ucm4...\n",
       "Name: 0, dtype: object"
      ]
     },
     "execution_count": 21,
     "metadata": {},
     "output_type": "execute_result"
    }
   ],
   "source": [
    "press.iloc[0]"
   ]
  },
  {
   "cell_type": "code",
   "execution_count": 6,
   "metadata": {
    "collapsed": false
   },
   "outputs": [
    {
     "data": {
      "text/plain": [
       "Product.Type                                                                                     Food\n",
       "Event.ID                                                                                        66563\n",
       "Status                                                                                      Completed\n",
       "Recalling.Firm                                                               Reser's Fine Foods, Inc.\n",
       "Address1                                                                        15570 SW Jenkins Road\n",
       "Address2                                                                                          NaN\n",
       "City                                                                                        Beaverton\n",
       "State.Province                                                                                     OR\n",
       "Postal.Code                                                                                     97006\n",
       "Country                                                                                 United States\n",
       "Voluntary.Mandated                                                          Voluntary: Firm Initiated\n",
       "Initial.Firm.Notification.of.Consignee.or.Public    Two or more of the following: Email, Fax, Lett...\n",
       "Distribution.Pattern                                Distribution was made to AL, AR, AZ, CA, CO, C...\n",
       "Recall.Number                                                                             F-0231-2014\n",
       "Classification                                                                                Class I\n",
       "Product.Description                                 Macaroni Reg CAD, Formula MA.50,  Macaroni Sal...\n",
       "Product.Quantity                                                                                  NaN\n",
       "Reason.for.Recall                                   The recalled products are potentially contamin...\n",
       "Recall.Initiation.Date                                                                     10/22/2013\n",
       "Center.Classification.Date                                                                 12/24/2013\n",
       "Termination.Date                                                                                  NaN\n",
       "Report.Date                                                                                01/01/2014\n",
       "Code.Info                                                            Use by dates: 10/21/13-12/11/13.\n",
       "Name: 0, dtype: object"
      ]
     },
     "execution_count": 6,
     "metadata": {},
     "output_type": "execute_result"
    }
   ],
   "source": [
    "enforce.iloc[0]"
   ]
  },
  {
   "cell_type": "markdown",
   "metadata": {},
   "source": [
    "## Extract UPCs from text fields"
   ]
  },
  {
   "cell_type": "markdown",
   "metadata": {},
   "source": [
    "The first step in processing the FDA data is to extract the UPCs from the text fields they are contained in by making use of the `makeUPCCol` function in the `FDA_Preprocess` module (documenation can be found [HERE]). The function operates in one of two ways depending on what is passed in for `string_list`. These two ways are exemplified by the two different FDA datasets `press` and `enforce`, with the parameter `link` as `True` and `False` respectively."
   ]
  },
  {
   "cell_type": "markdown",
   "metadata": {},
   "source": [
    "### Press Release Dataset (`link = True`)"
   ]
  },
  {
   "cell_type": "markdown",
   "metadata": {},
   "source": [
    "In the Press Release Dataset, the text containing the product information, including UPCs, resides in the page linked to by the URL in the `COMPANY_RELEASE_LINK` column-- the text itself is not contained table."
   ]
  },
  {
   "cell_type": "markdown",
   "metadata": {},
   "source": [
    "In order to use the `makeUPCCOl` function with this dataset, you must pass `True` for the `link` parameter. This indicates that the `string_list` parameter being passed is a list of URLs rather than a list of strings.  The `makeUPCCol` function calls the `makeUPCList` function for each row in the dataset, and utilizes the Beautiful Soup with an HTML parser to pull out the text contained within the page. The value passed for `link` also indicates the default regex pattern that should be used for finding UPCs within the text. If `link=True` is passed, the default for the pattern parameter is `UPC_PATTERN_PAGE`. This regex pattern is ideal when the text being searched is an XML because it slightly stricter than the `UPC_PATTERN_TEXT` pattern, and is less likely to pull out unrelated number clusters or partial UPCs. "
   ]
  },
  {
   "cell_type": "markdown",
   "metadata": {},
   "source": [
    "Create and append a new column called `upc` to the `press` DataFrame that contains the list of UPCs associated with each recall:"
   ]
  },
  {
   "cell_type": "code",
   "execution_count": 7,
   "metadata": {
    "collapsed": false,
    "scrolled": false
   },
   "outputs": [
    {
     "name": "stdout",
     "output_type": "stream",
     "text": [
      "0 rows processed\n",
      "500 rows processed\n",
      "1000 rows processed\n",
      "1500 rows processed\n",
      "2000 rows processed\n",
      "2500 rows processed\n",
      "3000 rows processed\n",
      "3148 rows processed : COMPLETE\n"
     ]
    }
   ],
   "source": [
    "press['upc'] = makeUPCCol(press[\"COMPANY_RELEASE_LINK\"], link = True)"
   ]
  },
  {
   "cell_type": "code",
   "execution_count": 25,
   "metadata": {
    "collapsed": false
   },
   "outputs": [
    {
     "data": {
      "text/html": [
       "<div>\n",
       "<table border=\"1\" class=\"dataframe\">\n",
       "  <thead>\n",
       "    <tr style=\"text-align: right;\">\n",
       "      <th></th>\n",
       "      <th>DATE</th>\n",
       "      <th>BRAND_NAME</th>\n",
       "      <th>PRODUCT_DESCRIPTION</th>\n",
       "      <th>REASON</th>\n",
       "      <th>COMPANY</th>\n",
       "      <th>COMPANY_RELEASE_LINK</th>\n",
       "      <th>PHOTOS_LINK</th>\n",
       "    </tr>\n",
       "  </thead>\n",
       "  <tbody>\n",
       "    <tr>\n",
       "      <th>0</th>\n",
       "      <td>Fri, 01 May 2015 20:41:00 -0400</td>\n",
       "      <td>Sun Rich, Subway</td>\n",
       "      <td>Apple slices, apple slices with Dip, Sunshine ...</td>\n",
       "      <td>Listeria monocytogenes</td>\n",
       "      <td>Sun Rich Fresh Foods</td>\n",
       "      <td>http://www.fda.gov/Safety/Recalls/ucm445391.htm</td>\n",
       "      <td>\\r\\t\\t\\thttp://www.fda.gov/Safety/Recalls/ucm4...</td>\n",
       "    </tr>\n",
       "  </tbody>\n",
       "</table>\n",
       "</div>"
      ],
      "text/plain": [
       "                              DATE        BRAND_NAME  \\\n",
       "0  Fri, 01 May 2015 20:41:00 -0400  Sun Rich, Subway   \n",
       "\n",
       "                                 PRODUCT_DESCRIPTION                  REASON  \\\n",
       "0  Apple slices, apple slices with Dip, Sunshine ...  Listeria monocytogenes   \n",
       "\n",
       "                COMPANY                             COMPANY_RELEASE_LINK  \\\n",
       "0  Sun Rich Fresh Foods  http://www.fda.gov/Safety/Recalls/ucm445391.htm   \n",
       "\n",
       "                                         PHOTOS_LINK  \n",
       "0  \\r\\t\\t\\thttp://www.fda.gov/Safety/Recalls/ucm4...  "
      ]
     },
     "execution_count": 25,
     "metadata": {},
     "output_type": "execute_result"
    }
   ],
   "source": [
    "press[0:1]"
   ]
  },
  {
   "cell_type": "markdown",
   "metadata": {},
   "source": [
    "### Enforcement Dataset (`link = False`)"
   ]
  },
  {
   "cell_type": "markdown",
   "metadata": {},
   "source": [
    "In the Enforcement data, the product information is contained in strings within the `Code.Info` or `Product.Description` columns. The default parameter `link=False` is the correct value for this dataset, indicating that `string_list` parameter is a list of strings containing the UPCs. When `link=False`, the default parameter for `pattern`, `UPC_PATTERN_TEXT`, is used. This is the optimal pattern when searching strings directly-- it is slightly more liberal with the patterns that it looks for and is able to capture more number clusters without fear of false matches or incomplete UPCs. "
   ]
  },
  {
   "cell_type": "markdown",
   "metadata": {},
   "source": [
    "Create and append a new column called `upc_pd` to the `enforce` DataFrame that contains the list of UPCs for each recall found in the `Product.Description` column:"
   ]
  },
  {
   "cell_type": "code",
   "execution_count": 9,
   "metadata": {
    "collapsed": false,
    "scrolled": true
   },
   "outputs": [],
   "source": [
    "enforce['upcs_pd'] = makeUPCCol(enforce[\"Product.Description\"], verbose = False)"
   ]
  },
  {
   "cell_type": "markdown",
   "metadata": {},
   "source": [
    "Create and append a new column called `upc_ci` to the `enforce` DataFrame that contains the list of UPCs for each recall found in the `Code.Info` column:"
   ]
  },
  {
   "cell_type": "code",
   "execution_count": 10,
   "metadata": {
    "collapsed": false,
    "scrolled": true
   },
   "outputs": [],
   "source": [
    "enforce['upcs_ci'] = makeUPCCol(enforce[\"Code.Info\"], verbose = False)"
   ]
  },
  {
   "cell_type": "markdown",
   "metadata": {},
   "source": [
    "Processing the `enforce` data is much faster, and there are many more rows, so we pass `verbose=False` to keep the function from printing out status messages."
   ]
  },
  {
   "cell_type": "markdown",
   "metadata": {},
   "source": [
    "We next combine the UPCs found the `Product.Description` and `Code.Info` columns and obtain a list containing the unique UPCs for each recall. "
   ]
  },
  {
   "cell_type": "markdown",
   "metadata": {},
   "source": [
    "Append a column called `upc` to the `enforce` DataFrame that contains the list UPCs associated with each recall:"
   ]
  },
  {
   "cell_type": "code",
   "execution_count": 11,
   "metadata": {
    "collapsed": false,
    "scrolled": false
   },
   "outputs": [],
   "source": [
    "union_col = [list(set(enforce.upcs_pd[rownum]).union(set(enforce.upcs_ci[rownum]))) for rownum in range(enforce.shape[0])]\n",
    "enforce['upc'] = pd.Series(union_col)"
   ]
  },
  {
   "cell_type": "markdown",
   "metadata": {},
   "source": [
    "Additionally, we create a list of all of the 12 digit UPCs from an recall event to be used for pattern matching in the UPC processing stage using the `makeEventUPCCol` function. "
   ]
  },
  {
   "cell_type": "code",
   "execution_count": 12,
   "metadata": {
    "collapsed": true
   },
   "outputs": [],
   "source": [
    "enforce[\"event_upc12\"] = makeEventUPCCol(enforce[\"upc\"], enforce[\"Event.ID\"])"
   ]
  },
  {
   "cell_type": "code",
   "execution_count": 17,
   "metadata": {
    "collapsed": false
   },
   "outputs": [
    {
     "data": {
      "text/html": [
       "<div>\n",
       "<table border=\"1\" class=\"dataframe\">\n",
       "  <thead>\n",
       "    <tr style=\"text-align: right;\">\n",
       "      <th></th>\n",
       "      <th>Product.Type</th>\n",
       "      <th>Event.ID</th>\n",
       "      <th>Status</th>\n",
       "      <th>Recalling.Firm</th>\n",
       "      <th>Address1</th>\n",
       "      <th>Address2</th>\n",
       "      <th>City</th>\n",
       "      <th>State.Province</th>\n",
       "      <th>Postal.Code</th>\n",
       "      <th>Country</th>\n",
       "      <th>...</th>\n",
       "      <th>Reason.for.Recall</th>\n",
       "      <th>Recall.Initiation.Date</th>\n",
       "      <th>Center.Classification.Date</th>\n",
       "      <th>Termination.Date</th>\n",
       "      <th>Report.Date</th>\n",
       "      <th>Code.Info</th>\n",
       "      <th>upcs_pd</th>\n",
       "      <th>upcs_ci</th>\n",
       "      <th>upc</th>\n",
       "      <th>event_upc12</th>\n",
       "    </tr>\n",
       "  </thead>\n",
       "  <tbody>\n",
       "    <tr>\n",
       "      <th>0</th>\n",
       "      <td>Food</td>\n",
       "      <td>66563</td>\n",
       "      <td>Completed</td>\n",
       "      <td>Reser's Fine Foods, Inc.</td>\n",
       "      <td>15570 SW Jenkins Road</td>\n",
       "      <td>NaN</td>\n",
       "      <td>Beaverton</td>\n",
       "      <td>OR</td>\n",
       "      <td>97006</td>\n",
       "      <td>United States</td>\n",
       "      <td>...</td>\n",
       "      <td>The recalled products are potentially contamin...</td>\n",
       "      <td>10/22/2013</td>\n",
       "      <td>12/24/2013</td>\n",
       "      <td>NaN</td>\n",
       "      <td>01/01/2014</td>\n",
       "      <td>Use by dates: 10/21/13-12/11/13.</td>\n",
       "      <td>[052548517571, 071117001631, 071117002164, 071...</td>\n",
       "      <td>[]</td>\n",
       "      <td>[071117001631, 074865208369, 071117646078, 071...</td>\n",
       "      <td>[758108301610, 071117181500, 071117141771, 071...</td>\n",
       "    </tr>\n",
       "  </tbody>\n",
       "</table>\n",
       "<p>1 rows × 27 columns</p>\n",
       "</div>"
      ],
      "text/plain": [
       "  Product.Type  Event.ID     Status            Recalling.Firm  \\\n",
       "0         Food     66563  Completed  Reser's Fine Foods, Inc.   \n",
       "\n",
       "                Address1 Address2       City State.Province Postal.Code  \\\n",
       "0  15570 SW Jenkins Road      NaN  Beaverton             OR       97006   \n",
       "\n",
       "         Country                        ...                          \\\n",
       "0  United States                        ...                           \n",
       "\n",
       "                                   Reason.for.Recall Recall.Initiation.Date  \\\n",
       "0  The recalled products are potentially contamin...             10/22/2013   \n",
       "\n",
       "  Center.Classification.Date Termination.Date Report.Date  \\\n",
       "0                 12/24/2013              NaN  01/01/2014   \n",
       "\n",
       "                           Code.Info  \\\n",
       "0   Use by dates: 10/21/13-12/11/13.   \n",
       "\n",
       "                                             upcs_pd upcs_ci  \\\n",
       "0  [052548517571, 071117001631, 071117002164, 071...      []   \n",
       "\n",
       "                                                 upc  \\\n",
       "0  [071117001631, 074865208369, 071117646078, 071...   \n",
       "\n",
       "                                         event_upc12  \n",
       "0  [758108301610, 071117181500, 071117141771, 071...  \n",
       "\n",
       "[1 rows x 27 columns]"
      ]
     },
     "execution_count": 17,
     "metadata": {},
     "output_type": "execute_result"
    }
   ],
   "source": [
    "enforce.iloc[0:1]"
   ]
  }
 ],
 "metadata": {
  "anaconda-cloud": {},
  "kernelspec": {
   "display_name": "Python [Root]",
   "language": "python",
   "name": "Python [Root]"
  },
  "language_info": {
   "codemirror_mode": {
    "name": "ipython",
    "version": 3
   },
   "file_extension": ".py",
   "mimetype": "text/x-python",
   "name": "python",
   "nbconvert_exporter": "python",
   "pygments_lexer": "ipython3",
   "version": "3.5.2"
  }
 },
 "nbformat": 4,
 "nbformat_minor": 0
}
