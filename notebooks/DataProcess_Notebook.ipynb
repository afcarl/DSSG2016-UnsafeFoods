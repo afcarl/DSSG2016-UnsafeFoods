{
 "cells": [
  {
   "cell_type": "markdown",
   "metadata": {},
   "source": [
    "### Import Packages and Datasets"
   ]
  },
  {
   "cell_type": "markdown",
   "metadata": {},
   "source": [
    "To begin working with the FDA recall data, first import the necessary general packages, the data processing modules, and set your directory paths."
   ]
  },
  {
   "cell_type": "code",
   "execution_count": 1,
   "metadata": {
    "collapsed": true
   },
   "outputs": [],
   "source": [
    "import os\n",
    "import pandas as pd\n",
    "import csv\n",
    "import re"
   ]
  },
  {
   "cell_type": "code",
   "execution_count": 4,
   "metadata": {
    "collapsed": false
   },
   "outputs": [],
   "source": [
    "import dataproc.UPC_ASIN_Process as uap\n",
    "import dataproc.FDA_Preprocess as pp\n",
    "import dataproc.DataFrame_io as dfio"
   ]
  },
  {
   "cell_type": "code",
   "execution_count": 6,
   "metadata": {
    "collapsed": false
   },
   "outputs": [],
   "source": [
    "wd = os.getcwd()\n",
    "outer = os.path.join(wd, \"..\")\n",
    "data_dir = os.path.join(wd,\"..\",\"data\")\n",
    "git_data_dir = os.path.join(wd,\"..\",\"github_data\")"
   ]
  },
  {
   "cell_type": "markdown",
   "metadata": {},
   "source": [
    "Next, import the FDA Recall Press Release Data and FDA Recall Enforcement Report Data, and read them into a Pandas DataFrame."
   ]
  },
  {
   "cell_type": "code",
   "execution_count": 7,
   "metadata": {
    "collapsed": false
   },
   "outputs": [],
   "source": [
    "press = pd.read_csv(os.path.join(data_dir, \"FDA_recalls_2.csv\"),skip_blank_lines = True,encoding='ISO-8859-1', index_col = 0).fillna(\"\")\n",
    "enforce = pd.read_csv(os.path.join(data_dir,\"FDA_food_enforcements_2012-06_to_2016-07.csv\"), encoding = 'ISO-8859-1')"
   ]
  },
  {
   "cell_type": "markdown",
   "metadata": {},
   "source": [
    "The rows in the DataFrame correspond to an individual FDA recall. Each recall is associated with a single company and reason for recall, but may be associated with more than one product. The columns containing the information concerning the recalls vary between the two datasets, with the `enforce` data containing more detailed and FDA-specific information then the `press` data. "
   ]
  },
  {
   "cell_type": "code",
   "execution_count": 8,
   "metadata": {
    "collapsed": false,
    "scrolled": true
   },
   "outputs": [
    {
     "data": {
      "text/html": [
       "<div>\n",
       "<table border=\"1\" class=\"dataframe\">\n",
       "  <thead>\n",
       "    <tr style=\"text-align: right;\">\n",
       "      <th></th>\n",
       "      <th>DATE</th>\n",
       "      <th>BRAND_NAME</th>\n",
       "      <th>PRODUCT_DESCRIPTION</th>\n",
       "      <th>REASON</th>\n",
       "      <th>COMPANY</th>\n",
       "      <th>COMPANY_RELEASE_LINK</th>\n",
       "      <th>PHOTOS_LINK</th>\n",
       "    </tr>\n",
       "  </thead>\n",
       "  <tbody>\n",
       "    <tr>\n",
       "      <th>0</th>\n",
       "      <td>Fri, 01 May 2015 20:41:00 -0400</td>\n",
       "      <td>Sun Rich, Subway</td>\n",
       "      <td>Apple slices, apple slices with Dip, Sunshine ...</td>\n",
       "      <td>Listeria monocytogenes</td>\n",
       "      <td>Sun Rich Fresh Foods</td>\n",
       "      <td>http://www.fda.gov/Safety/Recalls/ucm445391.htm</td>\n",
       "      <td>http://www.fda.gov/Safety/Recalls/ucm445392.htm</td>\n",
       "    </tr>\n",
       "  </tbody>\n",
       "</table>\n",
       "</div>"
      ],
      "text/plain": [
       "                              DATE        BRAND_NAME  \\\n",
       "0  Fri, 01 May 2015 20:41:00 -0400  Sun Rich, Subway   \n",
       "\n",
       "                                 PRODUCT_DESCRIPTION                  REASON  \\\n",
       "0  Apple slices, apple slices with Dip, Sunshine ...  Listeria monocytogenes   \n",
       "\n",
       "                COMPANY                             COMPANY_RELEASE_LINK  \\\n",
       "0  Sun Rich Fresh Foods  http://www.fda.gov/Safety/Recalls/ucm445391.htm   \n",
       "\n",
       "                                       PHOTOS_LINK  \n",
       "0  http://www.fda.gov/Safety/Recalls/ucm445392.htm  "
      ]
     },
     "execution_count": 8,
     "metadata": {},
     "output_type": "execute_result"
    }
   ],
   "source": [
    "press.iloc[0:1]"
   ]
  },
  {
   "cell_type": "code",
   "execution_count": 9,
   "metadata": {
    "collapsed": false
   },
   "outputs": [
    {
     "data": {
      "text/html": [
       "<div>\n",
       "<table border=\"1\" class=\"dataframe\">\n",
       "  <thead>\n",
       "    <tr style=\"text-align: right;\">\n",
       "      <th></th>\n",
       "      <th>Product.Type</th>\n",
       "      <th>Event.ID</th>\n",
       "      <th>Status</th>\n",
       "      <th>Recalling.Firm</th>\n",
       "      <th>Address1</th>\n",
       "      <th>Address2</th>\n",
       "      <th>City</th>\n",
       "      <th>State.Province</th>\n",
       "      <th>Postal.Code</th>\n",
       "      <th>Country</th>\n",
       "      <th>...</th>\n",
       "      <th>Recall.Number</th>\n",
       "      <th>Classification</th>\n",
       "      <th>Product.Description</th>\n",
       "      <th>Product.Quantity</th>\n",
       "      <th>Reason.for.Recall</th>\n",
       "      <th>Recall.Initiation.Date</th>\n",
       "      <th>Center.Classification.Date</th>\n",
       "      <th>Termination.Date</th>\n",
       "      <th>Report.Date</th>\n",
       "      <th>Code.Info</th>\n",
       "    </tr>\n",
       "  </thead>\n",
       "  <tbody>\n",
       "    <tr>\n",
       "      <th>0</th>\n",
       "      <td>Food</td>\n",
       "      <td>66563</td>\n",
       "      <td>Completed</td>\n",
       "      <td>Reser's Fine Foods, Inc.</td>\n",
       "      <td>15570 SW Jenkins Road</td>\n",
       "      <td>NaN</td>\n",
       "      <td>Beaverton</td>\n",
       "      <td>OR</td>\n",
       "      <td>97006</td>\n",
       "      <td>United States</td>\n",
       "      <td>...</td>\n",
       "      <td>F-0231-2014</td>\n",
       "      <td>Class I</td>\n",
       "      <td>Macaroni Reg CAD, Formula MA.50,  Macaroni Sal...</td>\n",
       "      <td>NaN</td>\n",
       "      <td>The recalled products are potentially contamin...</td>\n",
       "      <td>10/22/2013</td>\n",
       "      <td>12/24/2013</td>\n",
       "      <td>NaN</td>\n",
       "      <td>01/01/2014</td>\n",
       "      <td>Use by dates: 10/21/13-12/11/13.</td>\n",
       "    </tr>\n",
       "  </tbody>\n",
       "</table>\n",
       "<p>1 rows × 23 columns</p>\n",
       "</div>"
      ],
      "text/plain": [
       "  Product.Type  Event.ID     Status            Recalling.Firm  \\\n",
       "0         Food     66563  Completed  Reser's Fine Foods, Inc.   \n",
       "\n",
       "                Address1 Address2       City State.Province Postal.Code  \\\n",
       "0  15570 SW Jenkins Road      NaN  Beaverton             OR       97006   \n",
       "\n",
       "         Country                ...                 Recall.Number  \\\n",
       "0  United States                ...                   F-0231-2014   \n",
       "\n",
       "  Classification                                Product.Description  \\\n",
       "0        Class I  Macaroni Reg CAD, Formula MA.50,  Macaroni Sal...   \n",
       "\n",
       "  Product.Quantity                                  Reason.for.Recall  \\\n",
       "0              NaN  The recalled products are potentially contamin...   \n",
       "\n",
       "  Recall.Initiation.Date Center.Classification.Date Termination.Date  \\\n",
       "0             10/22/2013                 12/24/2013              NaN   \n",
       "\n",
       "  Report.Date                          Code.Info  \n",
       "0  01/01/2014   Use by dates: 10/21/13-12/11/13.  \n",
       "\n",
       "[1 rows x 23 columns]"
      ]
     },
     "execution_count": 9,
     "metadata": {},
     "output_type": "execute_result"
    }
   ],
   "source": [
    "enforce.iloc[0:1]"
   ]
  },
  {
   "cell_type": "markdown",
   "metadata": {},
   "source": [
    "## Extract UPCs from text fields"
   ]
  },
  {
   "cell_type": "markdown",
   "metadata": {},
   "source": [
    "The first step in processing the FDA data is to extract the UPCs from the text fields they are contained in by making use of the `makeUPCCol` function in the `FDA_Preprocess` module (documenation can be found [HERE]). The function operates in one of two ways depending on what is passed in for `string_list`. These two ways are exemplified by the two different FDA datasets `press` and `enforce`, with the parameter `link` as `True` and `False` respectively."
   ]
  },
  {
   "cell_type": "markdown",
   "metadata": {},
   "source": [
    "### Press Release Dataset (`link = True`)"
   ]
  },
  {
   "cell_type": "markdown",
   "metadata": {},
   "source": [
    "In the Press Release Dataset, the text containing the product information, including UPCs, resides in the page linked to by the URL in the `COMPANY_RELEASE_LINK` column-- the text itself is not contained table.\n",
    "\n",
    "In order to use the `makeUPCCOl` function with this dataset, you must pass `True` for the `link` parameter. This indicates that the `string_list` parameter being passed is a list of URLs rather than a list of strings.  The `makeUPCCol` function calls the `makeUPCList` function for each row in the dataset, and utilizes the Beautiful Soup with an HTML parser to pull out the text contained within the page. The value passed for `link` also indicates the default regex pattern that should be used for finding UPCs within the text. If `link=True` is passed, the default for the pattern parameter is `UPC_PATTERN_PAGE`. This regex pattern is ideal when the text being searched is an XML because it slightly stricter than the `UPC_PATTERN_TEXT` pattern, and is less likely to pull out unrelated number clusters or partial UPCs."
   ]
  },
  {
   "cell_type": "markdown",
   "metadata": {},
   "source": [
    "Create and append a new column called `upc` to the `press` DataFrame that contains the list of UPCs associated with each recall:"
   ]
  },
  {
   "cell_type": "code",
   "execution_count": 12,
   "metadata": {
    "collapsed": false,
    "scrolled": true
   },
   "outputs": [
    {
     "name": "stdout",
     "output_type": "stream",
     "text": [
      "0 rows processed\n",
      "500 rows processed\n",
      "1000 rows processed\n",
      "1500 rows processed\n",
      "2000 rows processed\n",
      "2500 rows processed\n",
      "3000 rows processed\n",
      "3148 rows processed : COMPLETE\n"
     ]
    }
   ],
   "source": [
    "press[\"upc\"] = pp.makeUPCCol(press[\"COMPANY_RELEASE_LINK\"], link = True, verbose = True)"
   ]
  },
  {
   "cell_type": "markdown",
   "metadata": {},
   "source": [
    "### Enforcement Dataset (`link = False`)"
   ]
  },
  {
   "cell_type": "markdown",
   "metadata": {},
   "source": [
    "In the Enforcement data, the product information is contained in strings within the `Code.Info` or `Product.Description` columns. The default parameter `link=False` is the correct value for this dataset, indicating that `string_list` parameter is a list of strings containing the UPCs. When `link=False`, the default parameter for `pattern`, `UPC_PATTERN_TEXT`, is used. This is the optimal pattern when searching strings directly-- it is slightly more liberal with the patterns that it looks for and is able to capture more number clusters without fear of false matches or incomplete UPCs. "
   ]
  },
  {
   "cell_type": "markdown",
   "metadata": {},
   "source": [
    "Create and append a new column called `upc_pd` to the `enforce` DataFrame that contains the list of UPCs for each recall found in the `Product.Description` column:"
   ]
  },
  {
   "cell_type": "code",
   "execution_count": 13,
   "metadata": {
    "collapsed": false,
    "scrolled": true
   },
   "outputs": [],
   "source": [
    "enforce['upcs_pd'] = pp.makeUPCCol(enforce[\"Product.Description\"], verbose = False)"
   ]
  },
  {
   "cell_type": "markdown",
   "metadata": {},
   "source": [
    "Create and append a new column called `upc_ci` to the `enforce` DataFrame that contains the list of UPCs for each recall found in the `Code.Info` column:"
   ]
  },
  {
   "cell_type": "code",
   "execution_count": 14,
   "metadata": {
    "collapsed": false,
    "scrolled": true
   },
   "outputs": [],
   "source": [
    "enforce['upcs_ci'] = pp.makeUPCCol(enforce[\"Code.Info\"], verbose = False)"
   ]
  },
  {
   "cell_type": "markdown",
   "metadata": {},
   "source": [
    "Processing the `enforce` data is much faster, and there are many more rows, so we pass `verbose=False` to keep the function from printing out status messages.\n",
    "\n",
    "We next combine the UPCs found the `Product.Description` and `Code.Info` columns and obtain a list containing the unique UPCs for each recall. "
   ]
  },
  {
   "cell_type": "markdown",
   "metadata": {},
   "source": [
    "Append a column called `upc` to the `enforce` DataFrame that contains the list UPCs associated with each recall:"
   ]
  },
  {
   "cell_type": "code",
   "execution_count": 15,
   "metadata": {
    "collapsed": false,
    "scrolled": false
   },
   "outputs": [],
   "source": [
    "union_col = [list(set(enforce.upcs_pd[rownum]).union(set(enforce.upcs_ci[rownum]))) for rownum in range(enforce.shape[0])]\n",
    "enforce['upc'] = pd.Series(union_col)"
   ]
  },
  {
   "cell_type": "markdown",
   "metadata": {},
   "source": [
    "Additionally, create a list of all of the 12 digit UPCs from an recall event to be used for pattern matching in the UPC processing stage using the `makeEventUPCCol` function:"
   ]
  },
  {
   "cell_type": "code",
   "execution_count": 16,
   "metadata": {
    "collapsed": true
   },
   "outputs": [],
   "source": [
    "enforce[\"event_upc12\"] = pp.makeEventUPCCol(enforce[\"upc\"], enforce[\"Event.ID\"])"
   ]
  },
  {
   "cell_type": "code",
   "execution_count": 17,
   "metadata": {
    "collapsed": false,
    "scrolled": true
   },
   "outputs": [
    {
     "data": {
      "text/html": [
       "<div>\n",
       "<table border=\"1\" class=\"dataframe\">\n",
       "  <thead>\n",
       "    <tr style=\"text-align: right;\">\n",
       "      <th></th>\n",
       "      <th>Product.Type</th>\n",
       "      <th>Event.ID</th>\n",
       "      <th>Status</th>\n",
       "      <th>Recalling.Firm</th>\n",
       "      <th>Address1</th>\n",
       "      <th>Address2</th>\n",
       "      <th>City</th>\n",
       "      <th>State.Province</th>\n",
       "      <th>Postal.Code</th>\n",
       "      <th>Country</th>\n",
       "      <th>...</th>\n",
       "      <th>Reason.for.Recall</th>\n",
       "      <th>Recall.Initiation.Date</th>\n",
       "      <th>Center.Classification.Date</th>\n",
       "      <th>Termination.Date</th>\n",
       "      <th>Report.Date</th>\n",
       "      <th>Code.Info</th>\n",
       "      <th>upcs_pd</th>\n",
       "      <th>upcs_ci</th>\n",
       "      <th>upc</th>\n",
       "      <th>event_upc12</th>\n",
       "    </tr>\n",
       "  </thead>\n",
       "  <tbody>\n",
       "    <tr>\n",
       "      <th>0</th>\n",
       "      <td>Food</td>\n",
       "      <td>66563</td>\n",
       "      <td>Completed</td>\n",
       "      <td>Reser's Fine Foods, Inc.</td>\n",
       "      <td>15570 SW Jenkins Road</td>\n",
       "      <td>NaN</td>\n",
       "      <td>Beaverton</td>\n",
       "      <td>OR</td>\n",
       "      <td>97006</td>\n",
       "      <td>United States</td>\n",
       "      <td>...</td>\n",
       "      <td>The recalled products are potentially contamin...</td>\n",
       "      <td>10/22/2013</td>\n",
       "      <td>12/24/2013</td>\n",
       "      <td>NaN</td>\n",
       "      <td>01/01/2014</td>\n",
       "      <td>Use by dates: 10/21/13-12/11/13.</td>\n",
       "      <td>[071117002164, 071117613223, 071117646078, 052...</td>\n",
       "      <td>[]</td>\n",
       "      <td>[071117002164, 071117001631, 071117613223, 074...</td>\n",
       "      <td>[079453214722, 071117616507, 758108301566, 071...</td>\n",
       "    </tr>\n",
       "  </tbody>\n",
       "</table>\n",
       "<p>1 rows × 27 columns</p>\n",
       "</div>"
      ],
      "text/plain": [
       "  Product.Type  Event.ID     Status            Recalling.Firm  \\\n",
       "0         Food     66563  Completed  Reser's Fine Foods, Inc.   \n",
       "\n",
       "                Address1 Address2       City State.Province Postal.Code  \\\n",
       "0  15570 SW Jenkins Road      NaN  Beaverton             OR       97006   \n",
       "\n",
       "         Country                        ...                          \\\n",
       "0  United States                        ...                           \n",
       "\n",
       "                                   Reason.for.Recall Recall.Initiation.Date  \\\n",
       "0  The recalled products are potentially contamin...             10/22/2013   \n",
       "\n",
       "  Center.Classification.Date Termination.Date Report.Date  \\\n",
       "0                 12/24/2013              NaN  01/01/2014   \n",
       "\n",
       "                           Code.Info  \\\n",
       "0   Use by dates: 10/21/13-12/11/13.   \n",
       "\n",
       "                                             upcs_pd upcs_ci  \\\n",
       "0  [071117002164, 071117613223, 071117646078, 052...      []   \n",
       "\n",
       "                                                 upc  \\\n",
       "0  [071117002164, 071117001631, 071117613223, 074...   \n",
       "\n",
       "                                         event_upc12  \n",
       "0  [079453214722, 071117616507, 758108301566, 071...  \n",
       "\n",
       "[1 rows x 27 columns]"
      ]
     },
     "execution_count": 17,
     "metadata": {},
     "output_type": "execute_result"
    }
   ],
   "source": [
    "enforce.iloc[0:1]"
   ]
  },
  {
   "cell_type": "markdown",
   "metadata": {},
   "source": [
    "## DataFrame Import/Export"
   ]
  },
  {
   "cell_type": "markdown",
   "metadata": {},
   "source": [
    "Python lists within Pandas DataFrames are not read in and out as strings, so we created a set of functions in the DataFrame_io submodule to convert between these types more easily. "
   ]
  },
  {
   "cell_type": "markdown",
   "metadata": {},
   "source": [
    "### Write Data Out"
   ]
  },
  {
   "cell_type": "markdown",
   "metadata": {},
   "source": [
    "Convert the lists of UPCs in both DataFrames to semi-colon delimited strings:"
   ]
  },
  {
   "cell_type": "code",
   "execution_count": null,
   "metadata": {
    "collapsed": true
   },
   "outputs": [],
   "source": [
    "press[\"upc\"] = pd.Series(dfio.listToStringCol(press[\"upc\"]))"
   ]
  },
  {
   "cell_type": "code",
   "execution_count": 20,
   "metadata": {
    "collapsed": true
   },
   "outputs": [],
   "source": [
    "enforce[\"upc\"] = pd.Series(dfio.listToStringCol(enforce[\"upc\"]))\n",
    "enforce[\"event_upc12\"] = pd.Series(dfio.listToStringCol(enforce[\"event_upc12\"]))"
   ]
  },
  {
   "cell_type": "markdown",
   "metadata": {},
   "source": [
    "Write both DataFrames to CSVs:"
   ]
  },
  {
   "cell_type": "code",
   "execution_count": 21,
   "metadata": {
    "collapsed": false,
    "scrolled": true
   },
   "outputs": [],
   "source": [
    "#ignore if you wish to keep the colums showing the UPCs extracted from each column seperately\n",
    "enforce.drop([\"upcs_pd\", \"upcs_ci\"], axis = 1, inplace = True)"
   ]
  },
  {
   "cell_type": "code",
   "execution_count": 22,
   "metadata": {
    "collapsed": true
   },
   "outputs": [],
   "source": [
    "press.to_csv(os.path.join(gitdata_dir, \"press_upc.csv\"))\n",
    "enforce.to_csv(os.path.join(gitdata_dir, \"enforce_upc.csv\"))"
   ]
  },
  {
   "cell_type": "markdown",
   "metadata": {},
   "source": [
    "### Read Data In"
   ]
  },
  {
   "cell_type": "markdown",
   "metadata": {},
   "source": [
    "Read CSVs into DataFrames:"
   ]
  },
  {
   "cell_type": "code",
   "execution_count": 25,
   "metadata": {
    "collapsed": false
   },
   "outputs": [],
   "source": [
    "press = pd.read_csv(os.path.join(gitdata_dir, \"press_upc.csv\"), index_col = 0).fillna(\"\")\n",
    "enforce = pd.read_csv(os.path.join(gitdata_dir, \"enforce_upc.csv\"), index_col = 0).fillna(\"\")"
   ]
  },
  {
   "cell_type": "code",
   "execution_count": 26,
   "metadata": {
    "collapsed": false,
    "scrolled": false
   },
   "outputs": [
    {
     "data": {
      "text/html": [
       "<div>\n",
       "<table border=\"1\" class=\"dataframe\">\n",
       "  <thead>\n",
       "    <tr style=\"text-align: right;\">\n",
       "      <th></th>\n",
       "      <th>DATE</th>\n",
       "      <th>BRAND_NAME</th>\n",
       "      <th>PRODUCT_DESCRIPTION</th>\n",
       "      <th>REASON</th>\n",
       "      <th>COMPANY</th>\n",
       "      <th>COMPANY_RELEASE_LINK</th>\n",
       "      <th>PHOTOS_LINK</th>\n",
       "      <th>upc</th>\n",
       "    </tr>\n",
       "  </thead>\n",
       "  <tbody>\n",
       "    <tr>\n",
       "      <th>0</th>\n",
       "      <td>Fri, 01 May 2015 20:41:00 -0400</td>\n",
       "      <td>Sun Rich, Subway</td>\n",
       "      <td>Apple slices, apple slices with Dip, Sunshine ...</td>\n",
       "      <td>Listeria monocytogenes</td>\n",
       "      <td>Sun Rich Fresh Foods</td>\n",
       "      <td>http://www.fda.gov/Safety/Recalls/ucm445391.htm</td>\n",
       "      <td>http://www.fda.gov/Safety/Recalls/ucm445392.htm</td>\n",
       "      <td>060243004531;060243012932;060243012963;0602430...</td>\n",
       "    </tr>\n",
       "    <tr>\n",
       "      <th>1</th>\n",
       "      <td>Tue, 28 Apr 2015 00:00:00 -0400</td>\n",
       "      <td>Hy-Vee</td>\n",
       "      <td>Fresh Pasta Salad</td>\n",
       "      <td>Listeria monocytogenes</td>\n",
       "      <td>Hy-Vee, Inc.</td>\n",
       "      <td>http://www.fda.gov/Safety/Recalls/ucm444946.htm</td>\n",
       "      <td></td>\n",
       "      <td></td>\n",
       "    </tr>\n",
       "  </tbody>\n",
       "</table>\n",
       "</div>"
      ],
      "text/plain": [
       "                              DATE        BRAND_NAME  \\\n",
       "0  Fri, 01 May 2015 20:41:00 -0400  Sun Rich, Subway   \n",
       "1  Tue, 28 Apr 2015 00:00:00 -0400            Hy-Vee   \n",
       "\n",
       "                                 PRODUCT_DESCRIPTION                  REASON  \\\n",
       "0  Apple slices, apple slices with Dip, Sunshine ...  Listeria monocytogenes   \n",
       "1                                  Fresh Pasta Salad  Listeria monocytogenes   \n",
       "\n",
       "                COMPANY                             COMPANY_RELEASE_LINK  \\\n",
       "0  Sun Rich Fresh Foods  http://www.fda.gov/Safety/Recalls/ucm445391.htm   \n",
       "1          Hy-Vee, Inc.  http://www.fda.gov/Safety/Recalls/ucm444946.htm   \n",
       "\n",
       "                                       PHOTOS_LINK  \\\n",
       "0  http://www.fda.gov/Safety/Recalls/ucm445392.htm   \n",
       "1                                                    \n",
       "\n",
       "                                                 upc  \n",
       "0  060243004531;060243012932;060243012963;0602430...  \n",
       "1                                                     "
      ]
     },
     "execution_count": 26,
     "metadata": {},
     "output_type": "execute_result"
    }
   ],
   "source": [
    "press.iloc[0:2]"
   ]
  },
  {
   "cell_type": "code",
   "execution_count": 27,
   "metadata": {
    "collapsed": false,
    "scrolled": true
   },
   "outputs": [
    {
     "data": {
      "text/html": [
       "<div>\n",
       "<table border=\"1\" class=\"dataframe\">\n",
       "  <thead>\n",
       "    <tr style=\"text-align: right;\">\n",
       "      <th></th>\n",
       "      <th>Product.Type</th>\n",
       "      <th>Event.ID</th>\n",
       "      <th>Status</th>\n",
       "      <th>Recalling.Firm</th>\n",
       "      <th>Address1</th>\n",
       "      <th>Address2</th>\n",
       "      <th>City</th>\n",
       "      <th>State.Province</th>\n",
       "      <th>Postal.Code</th>\n",
       "      <th>Country</th>\n",
       "      <th>...</th>\n",
       "      <th>Product.Description</th>\n",
       "      <th>Product.Quantity</th>\n",
       "      <th>Reason.for.Recall</th>\n",
       "      <th>Recall.Initiation.Date</th>\n",
       "      <th>Center.Classification.Date</th>\n",
       "      <th>Termination.Date</th>\n",
       "      <th>Report.Date</th>\n",
       "      <th>Code.Info</th>\n",
       "      <th>upc</th>\n",
       "      <th>event_upc12</th>\n",
       "    </tr>\n",
       "  </thead>\n",
       "  <tbody>\n",
       "    <tr>\n",
       "      <th>0</th>\n",
       "      <td>Food</td>\n",
       "      <td>66563</td>\n",
       "      <td>Completed</td>\n",
       "      <td>Reser's Fine Foods, Inc.</td>\n",
       "      <td>15570 SW Jenkins Road</td>\n",
       "      <td></td>\n",
       "      <td>Beaverton</td>\n",
       "      <td>OR</td>\n",
       "      <td>97006</td>\n",
       "      <td>United States</td>\n",
       "      <td>...</td>\n",
       "      <td>Macaroni Reg CAD, Formula MA.50,  Macaroni Sal...</td>\n",
       "      <td></td>\n",
       "      <td>The recalled products are potentially contamin...</td>\n",
       "      <td>10/22/2013</td>\n",
       "      <td>12/24/2013</td>\n",
       "      <td></td>\n",
       "      <td>01/01/2014</td>\n",
       "      <td>Use by dates: 10/21/13-12/11/13.</td>\n",
       "      <td>071117002164;071117001631;071117613223;0748652...</td>\n",
       "      <td>079453214722;071117616507;758108301566;0711171...</td>\n",
       "    </tr>\n",
       "    <tr>\n",
       "      <th>1</th>\n",
       "      <td>Food</td>\n",
       "      <td>66563</td>\n",
       "      <td>Completed</td>\n",
       "      <td>Reser's Fine Foods, Inc.</td>\n",
       "      <td>15570 SW Jenkins Road</td>\n",
       "      <td></td>\n",
       "      <td>Beaverton</td>\n",
       "      <td>OR</td>\n",
       "      <td>97006</td>\n",
       "      <td>United States</td>\n",
       "      <td>...</td>\n",
       "      <td>Reser's Fine Foods, Cheesy Macaroni Salad, For...</td>\n",
       "      <td></td>\n",
       "      <td>The recalled products are potentially contamin...</td>\n",
       "      <td>10/22/2013</td>\n",
       "      <td>12/24/2013</td>\n",
       "      <td></td>\n",
       "      <td>01/01/2014</td>\n",
       "      <td>Use by date 10/20/13 and 12/01/13.</td>\n",
       "      <td>071117182415;071117612271;</td>\n",
       "      <td>079453214722;071117616507;758108301566;0711171...</td>\n",
       "    </tr>\n",
       "  </tbody>\n",
       "</table>\n",
       "<p>2 rows × 25 columns</p>\n",
       "</div>"
      ],
      "text/plain": [
       "  Product.Type  Event.ID     Status            Recalling.Firm  \\\n",
       "0         Food     66563  Completed  Reser's Fine Foods, Inc.   \n",
       "1         Food     66563  Completed  Reser's Fine Foods, Inc.   \n",
       "\n",
       "                Address1 Address2       City State.Province Postal.Code  \\\n",
       "0  15570 SW Jenkins Road           Beaverton             OR       97006   \n",
       "1  15570 SW Jenkins Road           Beaverton             OR       97006   \n",
       "\n",
       "         Country                        ...                          \\\n",
       "0  United States                        ...                           \n",
       "1  United States                        ...                           \n",
       "\n",
       "                                 Product.Description Product.Quantity  \\\n",
       "0  Macaroni Reg CAD, Formula MA.50,  Macaroni Sal...                    \n",
       "1  Reser's Fine Foods, Cheesy Macaroni Salad, For...                    \n",
       "\n",
       "                                   Reason.for.Recall Recall.Initiation.Date  \\\n",
       "0  The recalled products are potentially contamin...             10/22/2013   \n",
       "1  The recalled products are potentially contamin...             10/22/2013   \n",
       "\n",
       "  Center.Classification.Date Termination.Date Report.Date  \\\n",
       "0                 12/24/2013                   01/01/2014   \n",
       "1                 12/24/2013                   01/01/2014   \n",
       "\n",
       "                             Code.Info  \\\n",
       "0     Use by dates: 10/21/13-12/11/13.   \n",
       "1   Use by date 10/20/13 and 12/01/13.   \n",
       "\n",
       "                                                 upc  \\\n",
       "0  071117002164;071117001631;071117613223;0748652...   \n",
       "1                         071117182415;071117612271;   \n",
       "\n",
       "                                         event_upc12  \n",
       "0  079453214722;071117616507;758108301566;0711171...  \n",
       "1  079453214722;071117616507;758108301566;0711171...  \n",
       "\n",
       "[2 rows x 25 columns]"
      ]
     },
     "execution_count": 27,
     "metadata": {},
     "output_type": "execute_result"
    }
   ],
   "source": [
    "enforce.iloc[0:2]"
   ]
  },
  {
   "cell_type": "code",
   "execution_count": 28,
   "metadata": {
    "collapsed": false
   },
   "outputs": [],
   "source": [
    "press[\"upc\"]=pd.Series(dfio.stringToListCol(press[\"upc\"]), index = press.index)"
   ]
  },
  {
   "cell_type": "code",
   "execution_count": 29,
   "metadata": {
    "collapsed": false
   },
   "outputs": [],
   "source": [
    "enforce[\"upc\"] = pd.Series(dfio.stringToListCol(enforce[\"upc\"]))\n",
    "enforce[\"event_upc12\"] = pd.Series(dfio.stringToListCol(enforce[\"event_upc12\"]))"
   ]
  },
  {
   "cell_type": "markdown",
   "metadata": {},
   "source": [
    "## Process UPCs and lookup ASINs"
   ]
  },
  {
   "cell_type": "markdown",
   "metadata": {},
   "source": [
    "Next process the UPCs using the `makeUPCProcessedList` function in the `UPC_ASIN_Process` module determine the correct 12-digit UPC, or list of possible 12-digit UPCs for each UPC extracted. This function allows for an optional parameter of `event_upc12_list` to be passed. This is a list of potentially similar UPCs that, through various pattern matching strategies, can be used to determine the correct 12-digit UPC. Then lookup the ASIN for each 12-digit UPC using the `getASIN` function. When processing the UPCs in an entire DataFrame, it is more efficient to use the `makeUPCProcessedASINTuples` function, which processed the UPC and does the ASIN lookup at the same time. The function returns a list of tuples in the format `(row_number, upc_processed_nestedlist, asin_nestedlist)`.  \n",
    "Given the large number of UPCs and the API rate rate limit of 1 query per second, this process takes a significant period of time. It is therefore encouraged to pass the `pickle=True` (as well as `verbose=True` in order to keep track of the functions progress) parameter. The function will then use the Python pickling process (https://docs.python.org/3/library/pickle.html) to update and save the list of tuples to the file `data_pickle` every 200 rows.  "
   ]
  },
  {
   "cell_type": "code",
   "execution_count": 4,
   "metadata": {
    "collapsed": true
   },
   "outputs": [],
   "source": [
    "import pickle"
   ]
  },
  {
   "cell_type": "markdown",
   "metadata": {},
   "source": [
    "First process the press data, passing the name of the DataFrame, the name of the column containing the UPCs, and both pickle and verbose as True. The parameter `event_upc12_colname` is left at the default value of `None`, indicating that the list of potentially similar UPCs to be used for pattern matching should be constructed from all of the 12-digit UPCs from the same FDA recall. The `rowrange` parameter is also left at the default, indicating that the entire DataFrame should be processed. "
   ]
  },
  {
   "cell_type": "code",
   "execution_count": null,
   "metadata": {
    "collapsed": true
   },
   "outputs": [],
   "source": [
    "#Console output not shown\n",
    "press_tuple_list = uap.makeUPCProcessedASINTuples(press, \"upc\", pickle_filename = 'press_pickle', verbose = True)"
   ]
  },
  {
   "cell_type": "markdown",
   "metadata": {},
   "source": [
    "When the process is complete (the last line printed should read: `3154 rows processed & saved`), the processed tuples should be stored in `press_tuples` as well as to the location specified in `pickle_filename`."
   ]
  },
  {
   "cell_type": "markdown",
   "metadata": {},
   "source": [
    "Open the pickled file and check the first tuple and the length of the list to ensure that the process went smoothly"
   ]
  },
  {
   "cell_type": "code",
   "execution_count": 6,
   "metadata": {
    "collapsed": true
   },
   "outputs": [],
   "source": [
    "with open('press_pickle', 'rb') as file:\n",
    "    press_tuples = pickle.load(file)"
   ]
  },
  {
   "cell_type": "code",
   "execution_count": 7,
   "metadata": {
    "collapsed": false,
    "scrolled": false
   },
   "outputs": [
    {
     "data": {
      "text/plain": [
       "(3147, [], [])"
      ]
     },
     "execution_count": 7,
     "metadata": {},
     "output_type": "execute_result"
    }
   ],
   "source": [
    "press_tuples[-1]"
   ]
  },
  {
   "cell_type": "code",
   "execution_count": 8,
   "metadata": {
    "collapsed": false
   },
   "outputs": [
    {
     "data": {
      "text/plain": [
       "3148"
      ]
     },
     "execution_count": 8,
     "metadata": {},
     "output_type": "execute_result"
    }
   ],
   "source": [
    "len(press_tuples)"
   ]
  },
  {
   "cell_type": "markdown",
   "metadata": {},
   "source": [
    "Then repeat the process with the enforce data. This time, pass the `event_upc12_colname` as `event_upc12`, which was prepared in the FDA Preprocessing section above. "
   ]
  },
  {
   "cell_type": "code",
   "execution_count": 25,
   "metadata": {
    "collapsed": false,
    "scrolled": true
   },
   "outputs": [],
   "source": [
    "#Console output not shown\n",
    "enforce_tuple_list = uap.makeUPCProcessedASINTuples(enforce, \"upc\", event_upc12_colname = \"event_upc12\", pickle_filename = 'enforce_pickle', verbose = True)"
   ]
  },
  {
   "cell_type": "markdown",
   "metadata": {},
   "source": [
    "If your notebook stops running, or a error is thrown by the API, the pickling and saving process ensures that the work is not lost and one can more or less pick up where they left off. The last save point can be determined either from the last the status printed to the console (e.g. `3200 rows processed & saved`) or by reading in the pickle file and checking the length or indices. Indices are included in the tuples in order to make processing the data in pieces and later recombining simpler and easier to check. Again, be sure and rename the pickle file before proceeding with the rest of the data processing. "
   ]
  },
  {
   "cell_type": "code",
   "execution_count": 9,
   "metadata": {
    "collapsed": false
   },
   "outputs": [],
   "source": [
    "with open('enforce_pickle', 'rb') as file:\n",
    "    enforce_tuples_1 = pickle.load(file)"
   ]
  },
  {
   "cell_type": "code",
   "execution_count": 10,
   "metadata": {
    "collapsed": false,
    "scrolled": false
   },
   "outputs": [
    {
     "data": {
      "text/plain": [
       "(2199, [['696859110351']], [['B0019MNN2A']])"
      ]
     },
     "execution_count": 10,
     "metadata": {},
     "output_type": "execute_result"
    }
   ],
   "source": [
    "enforce_tuples_1[-1]"
   ]
  },
  {
   "cell_type": "markdown",
   "metadata": {},
   "source": [
    "Pass the `rowrange` parameter as a (`first_row','last_row`) tuple in order to continue from the last save point:"
   ]
  },
  {
   "cell_type": "code",
   "execution_count": 38,
   "metadata": {
    "collapsed": false
   },
   "outputs": [],
   "source": [
    "#console output not shown\n",
    "enforce_tuple_list = uap.makeUPCProcessedASINTuples(enforce, \"upc\", event_upc12_colname = \"event_upc12\", rowrange = (2200, enforce.shape[0]), pickle_filename = 'enforce_pickle_2200', verbose = True)"
   ]
  },
  {
   "cell_type": "markdown",
   "metadata": {},
   "source": [
    "Open the pickle file(s), combine the lists:"
   ]
  },
  {
   "cell_type": "code",
   "execution_count": 12,
   "metadata": {
    "collapsed": false
   },
   "outputs": [],
   "source": [
    "with open('enforce_pickle_2200', 'rb') as file:\n",
    "    enforce_tuples_2 = pickle.load(file)"
   ]
  },
  {
   "cell_type": "code",
   "execution_count": 13,
   "metadata": {
    "collapsed": false
   },
   "outputs": [],
   "source": [
    "enforce_tuples = enforce_tuples_1+enforce_tuples_2"
   ]
  },
  {
   "cell_type": "code",
   "execution_count": 14,
   "metadata": {
    "collapsed": false
   },
   "outputs": [
    {
     "data": {
      "text/plain": [
       "10292"
      ]
     },
     "execution_count": 14,
     "metadata": {},
     "output_type": "execute_result"
    }
   ],
   "source": [
    "len(enforce_tuples)"
   ]
  },
  {
   "cell_type": "markdown",
   "metadata": {},
   "source": [
    "Next read the tuple lists into Pandas DataFrames:"
   ]
  },
  {
   "cell_type": "code",
   "execution_count": 15,
   "metadata": {
    "collapsed": false
   },
   "outputs": [],
   "source": [
    "press_codes_df = pd.DataFrame.from_records(press_tuples, columns = [\"row\", \"upc_processed\", \"asin\"])\n",
    "enforce_codes_df = pd.DataFrame.from_records(enforce_tuples, columns = [\"row\", \"upc_processed\", \"asin\"])"
   ]
  },
  {
   "cell_type": "markdown",
   "metadata": {},
   "source": [
    "Make sure that the index and `row` columns match-- this is a good check to make sure that recombining the lists worked correctly. The redundant `row` columns can then be dropped."
   ]
  },
  {
   "cell_type": "code",
   "execution_count": 16,
   "metadata": {
    "collapsed": false,
    "scrolled": true
   },
   "outputs": [
    {
     "data": {
      "text/html": [
       "<div>\n",
       "<table border=\"1\" class=\"dataframe\">\n",
       "  <thead>\n",
       "    <tr style=\"text-align: right;\">\n",
       "      <th></th>\n",
       "      <th>row</th>\n",
       "      <th>upc_processed</th>\n",
       "      <th>asin</th>\n",
       "    </tr>\n",
       "  </thead>\n",
       "  <tbody>\n",
       "    <tr>\n",
       "      <th>3146</th>\n",
       "      <td>3146</td>\n",
       "      <td>[[045009067661], [045009080844], [045009067470...</td>\n",
       "      <td>[[B00EG7X0KU], [UPCNOTFOUND], [B01CGC9B9K], [B...</td>\n",
       "    </tr>\n",
       "  </tbody>\n",
       "</table>\n",
       "</div>"
      ],
      "text/plain": [
       "       row                                      upc_processed  \\\n",
       "3146  3146  [[045009067661], [045009080844], [045009067470...   \n",
       "\n",
       "                                                   asin  \n",
       "3146  [[B00EG7X0KU], [UPCNOTFOUND], [B01CGC9B9K], [B...  "
      ]
     },
     "execution_count": 16,
     "metadata": {},
     "output_type": "execute_result"
    }
   ],
   "source": [
    "press_codes_df.iloc[-2:-1]"
   ]
  },
  {
   "cell_type": "code",
   "execution_count": 17,
   "metadata": {
    "collapsed": false,
    "scrolled": true
   },
   "outputs": [
    {
     "data": {
      "text/html": [
       "<div>\n",
       "<table border=\"1\" class=\"dataframe\">\n",
       "  <thead>\n",
       "    <tr style=\"text-align: right;\">\n",
       "      <th></th>\n",
       "      <th>row</th>\n",
       "      <th>upc_processed</th>\n",
       "      <th>asin</th>\n",
       "    </tr>\n",
       "  </thead>\n",
       "  <tbody>\n",
       "    <tr>\n",
       "      <th>10290</th>\n",
       "      <td>10290</td>\n",
       "      <td>[]</td>\n",
       "      <td>[]</td>\n",
       "    </tr>\n",
       "  </tbody>\n",
       "</table>\n",
       "</div>"
      ],
      "text/plain": [
       "         row upc_processed asin\n",
       "10290  10290            []   []"
      ]
     },
     "execution_count": 17,
     "metadata": {},
     "output_type": "execute_result"
    }
   ],
   "source": [
    "enforce_codes_df.iloc[-2:-1]"
   ]
  },
  {
   "cell_type": "code",
   "execution_count": 18,
   "metadata": {
    "collapsed": false
   },
   "outputs": [],
   "source": [
    "press_codes_df.drop([\"row\"], axis = 1, inplace = True)\n",
    "enforce_codes_df.drop([\"row\"], axis = 1, inplace = True)"
   ]
  },
  {
   "cell_type": "markdown",
   "metadata": {
    "collapsed": true
   },
   "source": [
    "Unfortunately, for a variety of reasons, querying the API for the ASIN does not always work correctly, and the response can be a long error code rather than than the 10 character ASIN or `UPCNOTFOUND`. Instead of querying the the API again if it returns a \"error string\", it is far more efficient to look for and fix these after the initial processing is complete. \n",
    "Use the `fixASINErrors` function on both DataFrames. This should fix all of the error strings, but this can be double checked by running the function again and checking that `0 Error Strings found and fixed` is printed."
   ]
  },
  {
   "cell_type": "code",
   "execution_count": 19,
   "metadata": {
    "collapsed": false,
    "scrolled": true
   },
   "outputs": [
    {
     "name": "stdout",
     "output_type": "stream",
     "text": [
      "0 Error Strings found and fixed\n"
     ]
    }
   ],
   "source": [
    "press_codes_df[\"asin\"] = uap.fixASINErrors(press_codes_df[\"asin\"], press_codes_df[\"upc_processed\"])"
   ]
  },
  {
   "cell_type": "code",
   "execution_count": 20,
   "metadata": {
    "collapsed": false,
    "scrolled": false
   },
   "outputs": [
    {
     "name": "stdout",
     "output_type": "stream",
     "text": [
      "310 Error Strings found and fixed\n"
     ]
    }
   ],
   "source": [
    "enforce_codes_df[\"asin\"] = uap.fixASINErrors(enforce_codes_df[\"asin\"], enforce_codes_df[\"upc_processed\"])"
   ]
  },
  {
   "cell_type": "markdown",
   "metadata": {},
   "source": [
    "The number of error strings found and fixed will differ on each run of the `makeUPCProcessedASINTuples` process and will likely not be the same as the console output shown above. To ensure that all of these were caught, especially of the number of error strings found was very high, run this function again, and check `0 Error Strings found and fixed` is printed for each."
   ]
  },
  {
   "cell_type": "code",
   "execution_count": 23,
   "metadata": {
    "collapsed": false,
    "scrolled": true
   },
   "outputs": [
    {
     "name": "stdout",
     "output_type": "stream",
     "text": [
      "0 Error Strings found and fixed\n",
      "0 Error Strings found and fixed\n"
     ]
    }
   ],
   "source": [
    "press_codes_df[\"asin\"] = uap.fixASINErrors(press_codes_df[\"asin\"], press_codes_df[\"upc_processed\"])\n",
    "enforce_codes_df[\"asin\"] = uap.fixASINErrors(enforce_codes_df[\"asin\"], enforce_codes_df[\"upc_processed\"])"
   ]
  },
  {
   "cell_type": "code",
   "execution_count": 30,
   "metadata": {
    "collapsed": false
   },
   "outputs": [],
   "source": [
    "press_full = pd.concat([press, press_codes_df], axis = 1)\n",
    "enforce_full = pd.concat([enforce, enforce_codes_df], axis = 1)"
   ]
  },
  {
   "cell_type": "code",
   "execution_count": 59,
   "metadata": {
    "collapsed": false,
    "scrolled": false
   },
   "outputs": [
    {
     "data": {
      "text/html": [
       "<div>\n",
       "<table border=\"1\" class=\"dataframe\">\n",
       "  <thead>\n",
       "    <tr style=\"text-align: right;\">\n",
       "      <th></th>\n",
       "      <th>DATE</th>\n",
       "      <th>BRAND_NAME</th>\n",
       "      <th>PRODUCT_DESCRIPTION</th>\n",
       "      <th>REASON</th>\n",
       "      <th>COMPANY</th>\n",
       "      <th>COMPANY_RELEASE_LINK</th>\n",
       "      <th>PHOTOS_LINK</th>\n",
       "      <th>upc</th>\n",
       "      <th>upc_processed</th>\n",
       "      <th>asin</th>\n",
       "    </tr>\n",
       "  </thead>\n",
       "  <tbody>\n",
       "    <tr>\n",
       "      <th>0</th>\n",
       "      <td>Fri, 01 May 2015 20:41:00 -0400</td>\n",
       "      <td>Sun Rich, Subway</td>\n",
       "      <td>Apple slices, apple slices with Dip, Sunshine ...</td>\n",
       "      <td>Listeria monocytogenes</td>\n",
       "      <td>Sun Rich Fresh Foods</td>\n",
       "      <td>http://www.fda.gov/Safety/Recalls/ucm445391.htm</td>\n",
       "      <td>http://www.fda.gov/Safety/Recalls/ucm445392.htm</td>\n",
       "      <td>[060243004531, 060243012932, 060243012963, 060...</td>\n",
       "      <td>[[060243004531], [060243012932], [060243012963...</td>\n",
       "      <td>[[B00D4KXTAG], [B00P150LIA], [B01785QBMU], [UP...</td>\n",
       "    </tr>\n",
       "  </tbody>\n",
       "</table>\n",
       "</div>"
      ],
      "text/plain": [
       "                              DATE        BRAND_NAME  \\\n",
       "0  Fri, 01 May 2015 20:41:00 -0400  Sun Rich, Subway   \n",
       "\n",
       "                                 PRODUCT_DESCRIPTION                  REASON  \\\n",
       "0  Apple slices, apple slices with Dip, Sunshine ...  Listeria monocytogenes   \n",
       "\n",
       "                COMPANY                             COMPANY_RELEASE_LINK  \\\n",
       "0  Sun Rich Fresh Foods  http://www.fda.gov/Safety/Recalls/ucm445391.htm   \n",
       "\n",
       "                                       PHOTOS_LINK  \\\n",
       "0  http://www.fda.gov/Safety/Recalls/ucm445392.htm   \n",
       "\n",
       "                                                 upc  \\\n",
       "0  [060243004531, 060243012932, 060243012963, 060...   \n",
       "\n",
       "                                       upc_processed  \\\n",
       "0  [[060243004531], [060243012932], [060243012963...   \n",
       "\n",
       "                                                asin  \n",
       "0  [[B00D4KXTAG], [B00P150LIA], [B01785QBMU], [UP...  "
      ]
     },
     "execution_count": 59,
     "metadata": {},
     "output_type": "execute_result"
    }
   ],
   "source": [
    "press_full.iloc[0:1]"
   ]
  },
  {
   "cell_type": "code",
   "execution_count": 33,
   "metadata": {
    "collapsed": false
   },
   "outputs": [
    {
     "data": {
      "text/html": [
       "<div>\n",
       "<table border=\"1\" class=\"dataframe\">\n",
       "  <thead>\n",
       "    <tr style=\"text-align: right;\">\n",
       "      <th></th>\n",
       "      <th>Product.Type</th>\n",
       "      <th>Event.ID</th>\n",
       "      <th>Status</th>\n",
       "      <th>Recalling.Firm</th>\n",
       "      <th>Address1</th>\n",
       "      <th>Address2</th>\n",
       "      <th>City</th>\n",
       "      <th>State.Province</th>\n",
       "      <th>Postal.Code</th>\n",
       "      <th>Country</th>\n",
       "      <th>...</th>\n",
       "      <th>Reason.for.Recall</th>\n",
       "      <th>Recall.Initiation.Date</th>\n",
       "      <th>Center.Classification.Date</th>\n",
       "      <th>Termination.Date</th>\n",
       "      <th>Report.Date</th>\n",
       "      <th>Code.Info</th>\n",
       "      <th>upc</th>\n",
       "      <th>event_upc12</th>\n",
       "      <th>upc_processed</th>\n",
       "      <th>asin</th>\n",
       "    </tr>\n",
       "  </thead>\n",
       "  <tbody>\n",
       "    <tr>\n",
       "      <th>0</th>\n",
       "      <td>Food</td>\n",
       "      <td>66563</td>\n",
       "      <td>Completed</td>\n",
       "      <td>Reser's Fine Foods, Inc.</td>\n",
       "      <td>15570 SW Jenkins Road</td>\n",
       "      <td></td>\n",
       "      <td>Beaverton</td>\n",
       "      <td>OR</td>\n",
       "      <td>97006</td>\n",
       "      <td>United States</td>\n",
       "      <td>...</td>\n",
       "      <td>The recalled products are potentially contamin...</td>\n",
       "      <td>10/22/2013</td>\n",
       "      <td>12/24/2013</td>\n",
       "      <td></td>\n",
       "      <td>01/01/2014</td>\n",
       "      <td>Use by dates: 10/21/13-12/11/13.</td>\n",
       "      <td>[071117002164, 071117001631, 071117613223, 074...</td>\n",
       "      <td>[079453214722, 071117616507, 758108301566, 071...</td>\n",
       "      <td>[[071117002164], [071117001631], [071117613223...</td>\n",
       "      <td>[[B00JVD5VMY], [B01EX9EHUM], [B004P4S7QG], [B0...</td>\n",
       "    </tr>\n",
       "  </tbody>\n",
       "</table>\n",
       "<p>1 rows × 27 columns</p>\n",
       "</div>"
      ],
      "text/plain": [
       "  Product.Type  Event.ID     Status            Recalling.Firm  \\\n",
       "0         Food     66563  Completed  Reser's Fine Foods, Inc.   \n",
       "\n",
       "                Address1 Address2       City State.Province Postal.Code  \\\n",
       "0  15570 SW Jenkins Road           Beaverton             OR       97006   \n",
       "\n",
       "         Country                        ...                          \\\n",
       "0  United States                        ...                           \n",
       "\n",
       "                                   Reason.for.Recall Recall.Initiation.Date  \\\n",
       "0  The recalled products are potentially contamin...             10/22/2013   \n",
       "\n",
       "  Center.Classification.Date Termination.Date Report.Date  \\\n",
       "0                 12/24/2013                   01/01/2014   \n",
       "\n",
       "                           Code.Info  \\\n",
       "0   Use by dates: 10/21/13-12/11/13.   \n",
       "\n",
       "                                                 upc  \\\n",
       "0  [071117002164, 071117001631, 071117613223, 074...   \n",
       "\n",
       "                                         event_upc12  \\\n",
       "0  [079453214722, 071117616507, 758108301566, 071...   \n",
       "\n",
       "                                       upc_processed  \\\n",
       "0  [[071117002164], [071117001631], [071117613223...   \n",
       "\n",
       "                                                asin  \n",
       "0  [[B00JVD5VMY], [B01EX9EHUM], [B004P4S7QG], [B0...  \n",
       "\n",
       "[1 rows x 27 columns]"
      ]
     },
     "execution_count": 33,
     "metadata": {},
     "output_type": "execute_result"
    }
   ],
   "source": [
    "enforce_full.iloc[0:1]"
   ]
  },
  {
   "cell_type": "markdown",
   "metadata": {},
   "source": [
    "## Review Data"
   ]
  },
  {
   "cell_type": "markdown",
   "metadata": {},
   "source": [
    "Next, join the FDA recall data with the Amazon Review data found on Julian McAuley's website http://jmcauley.ucsd.edu/data/amazon/. Download the \"Grocery and Gourmet Food\" \"review\" and \"metadata\" datasets under the  \"Per-category files\" heading."
   ]
  },
  {
   "cell_type": "markdown",
   "metadata": {},
   "source": [
    "First, run the functions provided by McAuley to read the data into a Pandas Dataframe. Then read in the review data as well as the metadata (this may take some time). Then merge the two dataframes."
   ]
  },
  {
   "cell_type": "code",
   "execution_count": 36,
   "metadata": {
    "collapsed": true
   },
   "outputs": [],
   "source": [
    "#Code from Julian McAuley\n",
    "import json\n",
    "import pandas as pd\n",
    "import gzip\n",
    "\n",
    "def parse(path):\n",
    "  g = gzip.open(path, 'rb')\n",
    "  for l in g:\n",
    "    yield eval(l)\n",
    "\n",
    "def getDF(path):\n",
    "  i = 0\n",
    "  df = {}\n",
    "  for d in parse(path):\n",
    "    df[i] = d\n",
    "    i += 1\n",
    "  return pd.DataFrame.from_dict(df, orient='index')"
   ]
  },
  {
   "cell_type": "code",
   "execution_count": 37,
   "metadata": {
    "collapsed": true
   },
   "outputs": [],
   "source": [
    "df = getDF(os.path.join(data_dir, \"reviews_Grocery_and_Gourmet_Food.json.gz\"))"
   ]
  },
  {
   "cell_type": "code",
   "execution_count": 36,
   "metadata": {
    "collapsed": false
   },
   "outputs": [
    {
     "data": {
      "text/html": [
       "<div>\n",
       "<table border=\"1\" class=\"dataframe\">\n",
       "  <thead>\n",
       "    <tr style=\"text-align: right;\">\n",
       "      <th></th>\n",
       "      <th>overall</th>\n",
       "      <th>reviewerID</th>\n",
       "      <th>summary</th>\n",
       "      <th>asin</th>\n",
       "      <th>reviewerName</th>\n",
       "      <th>reviewTime</th>\n",
       "      <th>helpful</th>\n",
       "      <th>unixReviewTime</th>\n",
       "      <th>reviewText</th>\n",
       "    </tr>\n",
       "  </thead>\n",
       "  <tbody>\n",
       "    <tr>\n",
       "      <th>0</th>\n",
       "      <td>5.0</td>\n",
       "      <td>A1ZQZ8RJS1XVTX</td>\n",
       "      <td>Best vanilla I've ever had</td>\n",
       "      <td>0657745316</td>\n",
       "      <td>gsxrgirl</td>\n",
       "      <td>10 11, 2013</td>\n",
       "      <td>[0, 0]</td>\n",
       "      <td>1381449600</td>\n",
       "      <td>No sugar, no GMO garbage, no fillers that come...</td>\n",
       "    </tr>\n",
       "  </tbody>\n",
       "</table>\n",
       "</div>"
      ],
      "text/plain": [
       "   overall      reviewerID                     summary        asin  \\\n",
       "0      5.0  A1ZQZ8RJS1XVTX  Best vanilla I've ever had  0657745316   \n",
       "\n",
       "  reviewerName   reviewTime helpful  unixReviewTime  \\\n",
       "0     gsxrgirl  10 11, 2013  [0, 0]      1381449600   \n",
       "\n",
       "                                          reviewText  \n",
       "0  No sugar, no GMO garbage, no fillers that come...  "
      ]
     },
     "execution_count": 36,
     "metadata": {},
     "output_type": "execute_result"
    }
   ],
   "source": [
    "df.iloc[0:1]"
   ]
  },
  {
   "cell_type": "code",
   "execution_count": 37,
   "metadata": {
    "collapsed": true
   },
   "outputs": [],
   "source": [
    "metadata = getDF(os.path.join(data_dir, \"meta_Grocery_and_Gourmet_Food.json.gz\"))"
   ]
  },
  {
   "cell_type": "code",
   "execution_count": 38,
   "metadata": {
    "collapsed": true
   },
   "outputs": [],
   "source": [
    "#ignore if you wish to keep these columns\n",
    "metadata_col_subset = metadata.drop([\"imUrl\", \"related\"],1)"
   ]
  },
  {
   "cell_type": "code",
   "execution_count": 39,
   "metadata": {
    "collapsed": false
   },
   "outputs": [],
   "source": [
    "full_df = pd.merge(df, metadata_col_subset, how = \"left\", on = [\"asin\"])"
   ]
  },
  {
   "cell_type": "code",
   "execution_count": 40,
   "metadata": {
    "collapsed": false,
    "scrolled": true
   },
   "outputs": [
    {
     "data": {
      "text/html": [
       "<div>\n",
       "<table border=\"1\" class=\"dataframe\">\n",
       "  <thead>\n",
       "    <tr style=\"text-align: right;\">\n",
       "      <th></th>\n",
       "      <th>overall</th>\n",
       "      <th>reviewerID</th>\n",
       "      <th>summary</th>\n",
       "      <th>asin</th>\n",
       "      <th>reviewerName</th>\n",
       "      <th>reviewTime</th>\n",
       "      <th>helpful</th>\n",
       "      <th>unixReviewTime</th>\n",
       "      <th>reviewText</th>\n",
       "      <th>description</th>\n",
       "      <th>salesRank</th>\n",
       "      <th>title</th>\n",
       "      <th>categories</th>\n",
       "      <th>price</th>\n",
       "      <th>brand</th>\n",
       "    </tr>\n",
       "  </thead>\n",
       "  <tbody>\n",
       "    <tr>\n",
       "      <th>0</th>\n",
       "      <td>5.0</td>\n",
       "      <td>A1ZQZ8RJS1XVTX</td>\n",
       "      <td>Best vanilla I've ever had</td>\n",
       "      <td>0657745316</td>\n",
       "      <td>gsxrgirl</td>\n",
       "      <td>10 11, 2013</td>\n",
       "      <td>[0, 0]</td>\n",
       "      <td>1381449600</td>\n",
       "      <td>No sugar, no GMO garbage, no fillers that come...</td>\n",
       "      <td>This is real vanilla extract made with only 3 ...</td>\n",
       "      <td>{'Grocery &amp; Gourmet Food': 374004}</td>\n",
       "      <td>100 Percent All Natural Vanilla Extract</td>\n",
       "      <td>[[Grocery &amp; Gourmet Food]]</td>\n",
       "      <td>NaN</td>\n",
       "      <td>NaN</td>\n",
       "    </tr>\n",
       "  </tbody>\n",
       "</table>\n",
       "</div>"
      ],
      "text/plain": [
       "   overall      reviewerID                     summary        asin  \\\n",
       "0      5.0  A1ZQZ8RJS1XVTX  Best vanilla I've ever had  0657745316   \n",
       "\n",
       "  reviewerName   reviewTime helpful  unixReviewTime  \\\n",
       "0     gsxrgirl  10 11, 2013  [0, 0]      1381449600   \n",
       "\n",
       "                                          reviewText  \\\n",
       "0  No sugar, no GMO garbage, no fillers that come...   \n",
       "\n",
       "                                         description  \\\n",
       "0  This is real vanilla extract made with only 3 ...   \n",
       "\n",
       "                            salesRank  \\\n",
       "0  {'Grocery & Gourmet Food': 374004}   \n",
       "\n",
       "                                     title                  categories  price  \\\n",
       "0  100 Percent All Natural Vanilla Extract  [[Grocery & Gourmet Food]]    NaN   \n",
       "\n",
       "  brand  \n",
       "0   NaN  "
      ]
     },
     "execution_count": 40,
     "metadata": {},
     "output_type": "execute_result"
    }
   ],
   "source": [
    "full_df.iloc[0:1]"
   ]
  },
  {
   "cell_type": "markdown",
   "metadata": {},
   "source": [
    "Create a list of unique asins from the review data, and pass this as a parameter to the `makeRecallReviewTuples` function to create a list of matched asins, along with their corresponding processed upcs, recall dates, and recall numbers. This function also appends an `asin_match` column to the FDA dataframes indicating the asin (if one exists) that matched the amazon review data. "
   ]
  },
  {
   "cell_type": "code",
   "execution_count": 41,
   "metadata": {
    "collapsed": true
   },
   "outputs": [],
   "source": [
    "review_asins_unique = list(set(full_df[\"asin\"]))"
   ]
  },
  {
   "cell_type": "code",
   "execution_count": 43,
   "metadata": {
    "collapsed": false
   },
   "outputs": [
    {
     "data": {
      "text/plain": [
       "166049"
      ]
     },
     "execution_count": 43,
     "metadata": {},
     "output_type": "execute_result"
    }
   ],
   "source": [
    "len(review_asins_unique)"
   ]
  },
  {
   "cell_type": "code",
   "execution_count": 61,
   "metadata": {
    "collapsed": false
   },
   "outputs": [],
   "source": [
    "press_asin_tuples = uap.makeRecallReviewTuples(press_full, \"upc_processed\", \"asin\", \"DATE\", review_asins_unique)"
   ]
  },
  {
   "cell_type": "code",
   "execution_count": 62,
   "metadata": {
    "collapsed": false,
    "scrolled": true
   },
   "outputs": [],
   "source": [
    "enforce_asin_tuples = uap.makeRecallReviewTuples(enforce_full, \"upc_processed\", \"asin\", \"Recall.Initiation.Date\", review_asins_unique, \"Recall.Number\")"
   ]
  },
  {
   "cell_type": "code",
   "execution_count": 63,
   "metadata": {
    "collapsed": false
   },
   "outputs": [],
   "source": [
    "press_asin_tuples_unique = list(set(press_asin_tuples))\n",
    "enforce_asin_tuples_unique = list(set(enforce_asin_tuples))"
   ]
  },
  {
   "cell_type": "code",
   "execution_count": 64,
   "metadata": {
    "collapsed": false,
    "scrolled": false
   },
   "outputs": [
    {
     "data": {
      "text/plain": [
       "193"
      ]
     },
     "execution_count": 64,
     "metadata": {},
     "output_type": "execute_result"
    }
   ],
   "source": [
    "len(press_asin_tuples_unique)"
   ]
  },
  {
   "cell_type": "code",
   "execution_count": 65,
   "metadata": {
    "collapsed": false,
    "scrolled": false
   },
   "outputs": [
    {
     "data": {
      "text/plain": [
       "166"
      ]
     },
     "execution_count": 65,
     "metadata": {},
     "output_type": "execute_result"
    }
   ],
   "source": [
    "len(enforce_asin_tuples_unique)"
   ]
  },
  {
   "cell_type": "markdown",
   "metadata": {},
   "source": [
    "There are 193 and 166 unique matching asins found in the press and enforcement data respectively. Note that there is still overlap between the two sets of matching asins."
   ]
  },
  {
   "cell_type": "code",
   "execution_count": 76,
   "metadata": {
    "collapsed": false,
    "scrolled": false
   },
   "outputs": [
    {
     "data": {
      "text/plain": [
       "[('B00B044BNW', '038000318344', '1101', 'Mon, 08 Oct 2012 00:00:00 -0400'),\n",
       " ('B0035HCRRY', '085239803509', '2580', 'Tue, 07 Apr 2009 00:00:00 -0400'),\n",
       " ('B00CPJB9OA', '033079150734', '1110', 'Thu, 04 Oct 2012 00:00:00 -0400')]"
      ]
     },
     "execution_count": 76,
     "metadata": {},
     "output_type": "execute_result"
    }
   ],
   "source": [
    "press_asin_tuples_unique[0:3]"
   ]
  },
  {
   "cell_type": "code",
   "execution_count": 78,
   "metadata": {
    "collapsed": false
   },
   "outputs": [
    {
     "data": {
      "text/html": [
       "<div>\n",
       "<table border=\"1\" class=\"dataframe\">\n",
       "  <thead>\n",
       "    <tr style=\"text-align: right;\">\n",
       "      <th></th>\n",
       "      <th>DATE</th>\n",
       "      <th>BRAND_NAME</th>\n",
       "      <th>PRODUCT_DESCRIPTION</th>\n",
       "      <th>REASON</th>\n",
       "      <th>COMPANY</th>\n",
       "      <th>COMPANY_RELEASE_LINK</th>\n",
       "      <th>PHOTOS_LINK</th>\n",
       "      <th>upc</th>\n",
       "      <th>upc_processed</th>\n",
       "      <th>asin</th>\n",
       "      <th>asin_match</th>\n",
       "    </tr>\n",
       "  </thead>\n",
       "  <tbody>\n",
       "    <tr>\n",
       "      <th>1076</th>\n",
       "      <td>Fri, 12 Oct 2012 00:00:00 -0400</td>\n",
       "      <td>Sunland, Natural Value, Treasured Harvest, more</td>\n",
       "      <td>In-shell and Shelled Peanuts</td>\n",
       "      <td>Salmonella</td>\n",
       "      <td>Sunland, Inc.</td>\n",
       "      <td>http://www.fda.gov/Safety/Recalls/ucm323824.htm</td>\n",
       "      <td>http://www.fda.gov/Safety/Recalls/ucm324425.htm</td>\n",
       "      <td>[847921004331, 815369010993, 048687309177, 048...</td>\n",
       "      <td>[[847921004331], [815369010993], [048687309177...</td>\n",
       "      <td>[[B00KOB6XE2], [UPCNOTFOUND], [UPCNOTFOUND], [...</td>\n",
       "      <td>B00CPJB9OA</td>\n",
       "    </tr>\n",
       "    <tr>\n",
       "      <th>1110</th>\n",
       "      <td>Thu, 04 Oct 2012 00:00:00 -0400</td>\n",
       "      <td>American Choice, Archer Farms, Arrowhead Mills...</td>\n",
       "      <td>Flavored butters, spreads and more.</td>\n",
       "      <td>Salmonella</td>\n",
       "      <td>Sunland Inc.</td>\n",
       "      <td>http://www.fda.gov/Safety/Recalls/ucm322747.htm</td>\n",
       "      <td>http://www.fda.gov/Safety/Recalls/ucm322759.htm</td>\n",
       "      <td>[847921004331, 815369010993, 048687309177, 074...</td>\n",
       "      <td>[[847921004331], [815369010993], [048687309177...</td>\n",
       "      <td>[[B00KOB6XE2], [UPCNOTFOUND], [UPCNOTFOUND], [...</td>\n",
       "      <td>B00CPJB9OA</td>\n",
       "    </tr>\n",
       "  </tbody>\n",
       "</table>\n",
       "</div>"
      ],
      "text/plain": [
       "                                 DATE  \\\n",
       "1076  Fri, 12 Oct 2012 00:00:00 -0400   \n",
       "1110  Thu, 04 Oct 2012 00:00:00 -0400   \n",
       "\n",
       "                                             BRAND_NAME  \\\n",
       "1076    Sunland, Natural Value, Treasured Harvest, more   \n",
       "1110  American Choice, Archer Farms, Arrowhead Mills...   \n",
       "\n",
       "                      PRODUCT_DESCRIPTION      REASON        COMPANY  \\\n",
       "1076         In-shell and Shelled Peanuts  Salmonella  Sunland, Inc.   \n",
       "1110  Flavored butters, spreads and more.  Salmonella   Sunland Inc.   \n",
       "\n",
       "                                 COMPANY_RELEASE_LINK  \\\n",
       "1076  http://www.fda.gov/Safety/Recalls/ucm323824.htm   \n",
       "1110  http://www.fda.gov/Safety/Recalls/ucm322747.htm   \n",
       "\n",
       "                                          PHOTOS_LINK  \\\n",
       "1076  http://www.fda.gov/Safety/Recalls/ucm324425.htm   \n",
       "1110  http://www.fda.gov/Safety/Recalls/ucm322759.htm   \n",
       "\n",
       "                                                    upc  \\\n",
       "1076  [847921004331, 815369010993, 048687309177, 048...   \n",
       "1110  [847921004331, 815369010993, 048687309177, 074...   \n",
       "\n",
       "                                          upc_processed  \\\n",
       "1076  [[847921004331], [815369010993], [048687309177...   \n",
       "1110  [[847921004331], [815369010993], [048687309177...   \n",
       "\n",
       "                                                   asin  asin_match  \n",
       "1076  [[B00KOB6XE2], [UPCNOTFOUND], [UPCNOTFOUND], [...  B00CPJB9OA  \n",
       "1110  [[B00KOB6XE2], [UPCNOTFOUND], [UPCNOTFOUND], [...  B00CPJB9OA  "
      ]
     },
     "execution_count": 78,
     "metadata": {},
     "output_type": "execute_result"
    }
   ],
   "source": [
    "press_full[press_full[\"asin_match\"] == 'B00CPJB9OA']"
   ]
  },
  {
   "cell_type": "code",
   "execution_count": 79,
   "metadata": {
    "collapsed": false,
    "scrolled": false
   },
   "outputs": [
    {
     "data": {
      "text/plain": [
       "[('B001HTE0J0', '760519100287', 'F-2086-2014', '04/02/2014'),\n",
       " ('B00FF0SBX8', '014113913362', 'F-1286-2016', '03/09/2016')]"
      ]
     },
     "execution_count": 79,
     "metadata": {},
     "output_type": "execute_result"
    }
   ],
   "source": [
    "enforce_asin_tuples_unique[1:3]"
   ]
  },
  {
   "cell_type": "code",
   "execution_count": 80,
   "metadata": {
    "collapsed": false
   },
   "outputs": [
    {
     "data": {
      "text/html": [
       "<div>\n",
       "<table border=\"1\" class=\"dataframe\">\n",
       "  <thead>\n",
       "    <tr style=\"text-align: right;\">\n",
       "      <th></th>\n",
       "      <th>Product.Type</th>\n",
       "      <th>Event.ID</th>\n",
       "      <th>Status</th>\n",
       "      <th>Recalling.Firm</th>\n",
       "      <th>Address1</th>\n",
       "      <th>Address2</th>\n",
       "      <th>City</th>\n",
       "      <th>State.Province</th>\n",
       "      <th>Postal.Code</th>\n",
       "      <th>Country</th>\n",
       "      <th>...</th>\n",
       "      <th>Recall.Initiation.Date</th>\n",
       "      <th>Center.Classification.Date</th>\n",
       "      <th>Termination.Date</th>\n",
       "      <th>Report.Date</th>\n",
       "      <th>Code.Info</th>\n",
       "      <th>upc</th>\n",
       "      <th>event_upc12</th>\n",
       "      <th>upc_processed</th>\n",
       "      <th>asin</th>\n",
       "      <th>asin_match</th>\n",
       "    </tr>\n",
       "  </thead>\n",
       "  <tbody>\n",
       "    <tr>\n",
       "      <th>3455</th>\n",
       "      <td>Food</td>\n",
       "      <td>73485</td>\n",
       "      <td>Ongoing</td>\n",
       "      <td>Wonderful Pistachios &amp; Almonds, LLC.</td>\n",
       "      <td>13646 Highway 33</td>\n",
       "      <td></td>\n",
       "      <td>Lost Hills</td>\n",
       "      <td>CA</td>\n",
       "      <td>93249-9719</td>\n",
       "      <td>United States</td>\n",
       "      <td>...</td>\n",
       "      <td>03/09/2016</td>\n",
       "      <td>04/29/2016</td>\n",
       "      <td></td>\n",
       "      <td>05/11/2016</td>\n",
       "      <td>4.5 oz bag lot code 1510123307001, Expiry dat...</td>\n",
       "      <td>[014113913362, 014113910293, 1510123307001]</td>\n",
       "      <td>[014113910088, 014113910293, 014113913386, 014...</td>\n",
       "      <td>[[014113913362], [014113910293], [510123307004...</td>\n",
       "      <td>[[B00FF0SBX8], [B006ZHISTC], [UPCNOTFOUND, UPC...</td>\n",
       "      <td>B00FF0SBX8</td>\n",
       "    </tr>\n",
       "  </tbody>\n",
       "</table>\n",
       "<p>1 rows × 28 columns</p>\n",
       "</div>"
      ],
      "text/plain": [
       "     Product.Type  Event.ID   Status                        Recalling.Firm  \\\n",
       "3455         Food     73485  Ongoing  Wonderful Pistachios & Almonds, LLC.   \n",
       "\n",
       "              Address1 Address2        City State.Province Postal.Code  \\\n",
       "3455  13646 Highway 33           Lost Hills             CA  93249-9719   \n",
       "\n",
       "            Country     ...     Recall.Initiation.Date  \\\n",
       "3455  United States     ...                 03/09/2016   \n",
       "\n",
       "     Center.Classification.Date Termination.Date Report.Date  \\\n",
       "3455                 04/29/2016                   05/11/2016   \n",
       "\n",
       "                                              Code.Info  \\\n",
       "3455   4.5 oz bag lot code 1510123307001, Expiry dat...   \n",
       "\n",
       "                                              upc  \\\n",
       "3455  [014113913362, 014113910293, 1510123307001]   \n",
       "\n",
       "                                            event_upc12  \\\n",
       "3455  [014113910088, 014113910293, 014113913386, 014...   \n",
       "\n",
       "                                          upc_processed  \\\n",
       "3455  [[014113913362], [014113910293], [510123307004...   \n",
       "\n",
       "                                                   asin  asin_match  \n",
       "3455  [[B00FF0SBX8], [B006ZHISTC], [UPCNOTFOUND, UPC...  B00FF0SBX8  \n",
       "\n",
       "[1 rows x 28 columns]"
      ]
     },
     "execution_count": 80,
     "metadata": {},
     "output_type": "execute_result"
    }
   ],
   "source": [
    "enforce_full[enforce_full[\"asin_match\"] == 'B00FF0SBX8']"
   ]
  },
  {
   "cell_type": "markdown",
   "metadata": {},
   "source": [
    "## Write Data Out"
   ]
  },
  {
   "cell_type": "markdown",
   "metadata": {},
   "source": [
    "Write out the asin tuples dictionarys as well as the final dataframes."
   ]
  },
  {
   "cell_type": "code",
   "execution_count": 81,
   "metadata": {
    "collapsed": true
   },
   "outputs": [],
   "source": [
    "import csv"
   ]
  },
  {
   "cell_type": "code",
   "execution_count": 85,
   "metadata": {
    "collapsed": true
   },
   "outputs": [],
   "source": [
    "with open(os.path.join(git_data_dir,\"press_asin_dict.csv\"),'w') as out:\n",
    "    csv_out=csv.writer(out)\n",
    "    csv_out.writerow(['asin', 'upc_processed', 'recall_number', 'recall_date'])\n",
    "    for row in press_asin_tuples_unique:\n",
    "        csv_out.writerow(row)"
   ]
  },
  {
   "cell_type": "code",
   "execution_count": 87,
   "metadata": {
    "collapsed": true
   },
   "outputs": [],
   "source": [
    "press_full[\"upc\"] = pd.Series(dfio.listToStringCol(press_full[\"upc\"]))\n",
    "press_full[\"upc_processed\"] = pd.Series(dfio.listToStringCol(press_full[\"upc_processed\"], True))\n",
    "press_full[\"asin\"] = pd.Series(dfio.listToStringCol(press_full[\"asin\"], True))"
   ]
  },
  {
   "cell_type": "code",
   "execution_count": 88,
   "metadata": {
    "collapsed": true
   },
   "outputs": [],
   "source": [
    "press_full.to_csv(os.path.join(git_data_dir,\"press_full.csv\"))"
   ]
  },
  {
   "cell_type": "code",
   "execution_count": 86,
   "metadata": {
    "collapsed": true
   },
   "outputs": [],
   "source": [
    "with open(os.path.join(git_data_dir,\"enforce_asin_dict.csv\"),'w') as out:\n",
    "    csv_out=csv.writer(out)\n",
    "    csv_out.writerow(['asin', 'upc_processed', 'recall_number', 'recall_date'])\n",
    "    for row in enforce_asin_tuples_unique:\n",
    "        csv_out.writerow(row)"
   ]
  },
  {
   "cell_type": "code",
   "execution_count": 83,
   "metadata": {
    "collapsed": true
   },
   "outputs": [],
   "source": [
    "enforce_full[\"upc\"] = pd.Series(dfio.listToStringCol(enforce_full[\"upc\"]))\n",
    "enforce_full[\"event_upc12\"] = pd.Series(dfio.listToStringCol(enforce_full[\"event_upc12\"]))\n",
    "enforce_full[\"upc_processed\"] = pd.Series(dfio.listToStringCol(enforce_full[\"upc_processed\"], True))\n",
    "enforce_full[\"asin\"] = pd.Series(dfio.listToStringCol(enforce_full[\"asin\"], True))"
   ]
  },
  {
   "cell_type": "code",
   "execution_count": 89,
   "metadata": {
    "collapsed": true
   },
   "outputs": [],
   "source": [
    "enforce_full.to_csv(os.path.join(git_data_dir,\"enforce_full.csv\"))"
   ]
  }
 ],
 "metadata": {
  "anaconda-cloud": {},
  "kernelspec": {
   "display_name": "Python [Root]",
   "language": "python",
   "name": "Python [Root]"
  },
  "language_info": {
   "codemirror_mode": {
    "name": "ipython",
    "version": 3
   },
   "file_extension": ".py",
   "mimetype": "text/x-python",
   "name": "python",
   "nbconvert_exporter": "python",
   "pygments_lexer": "ipython3",
   "version": "3.5.2"
  }
 },
 "nbformat": 4,
 "nbformat_minor": 0
}
