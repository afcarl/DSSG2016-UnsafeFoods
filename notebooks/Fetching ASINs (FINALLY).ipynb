{
 "cells": [
  {
   "cell_type": "markdown",
   "metadata": {},
   "source": [
    "# Fetching ASINs"
   ]
  },
  {
   "cell_type": "markdown",
   "metadata": {},
   "source": [
    "## Load Kara's Methods"
   ]
  },
  {
   "cell_type": "code",
   "execution_count": 2,
   "metadata": {
    "collapsed": false
   },
   "outputs": [
    {
     "name": "stdout",
     "output_type": "stream",
     "text": [
      "C:\\Users\\cvint\\Desktop\\DSSG Unsafe Foods\\github-unsafe-foods\\DSSG2016-UnsafeFoods\n"
     ]
    }
   ],
   "source": [
    "cd .."
   ]
  },
  {
   "cell_type": "code",
   "execution_count": 3,
   "metadata": {
    "collapsed": false
   },
   "outputs": [
    {
     "name": "stdout",
     "output_type": "stream",
     "text": [
      "C:\\Users\\cvint\\Desktop\\DSSG Unsafe Foods\\github-unsafe-foods\\DSSG2016-UnsafeFoods\\code\n"
     ]
    }
   ],
   "source": [
    "cd code"
   ]
  },
  {
   "cell_type": "code",
   "execution_count": 5,
   "metadata": {
    "collapsed": false
   },
   "outputs": [],
   "source": [
    "run data-preprocessing.py"
   ]
  },
  {
   "cell_type": "markdown",
   "metadata": {},
   "source": [
    "## Load UPC file"
   ]
  },
  {
   "cell_type": "markdown",
   "metadata": {},
   "source": [
    "Cynthia = upcs-1.txt<br>\n",
    "Kara = upcs-2.txt<br>\n",
    "Mike = upcs-3.txt<br>\n",
    "Miki = upcs-4.txt<br>"
   ]
  },
  {
   "cell_type": "code",
   "execution_count": 6,
   "metadata": {
    "collapsed": false
   },
   "outputs": [
    {
     "name": "stdout",
     "output_type": "stream",
     "text": [
      "C:\\Users\\cvint\\Desktop\\DSSG Unsafe Foods\\github-unsafe-foods\\DSSG2016-UnsafeFoods\\upcs\n"
     ]
    }
   ],
   "source": [
    "cd ../upcs"
   ]
  },
  {
   "cell_type": "code",
   "execution_count": 16,
   "metadata": {
    "collapsed": true
   },
   "outputs": [],
   "source": [
    "with open('upcs-1.txt') as upc_file:\n",
    "    lines = upc_file.readlines()\n",
    "upc_file.close()    "
   ]
  },
  {
   "cell_type": "code",
   "execution_count": 14,
   "metadata": {
    "collapsed": false
   },
   "outputs": [],
   "source": [
    "products = []\n",
    "for line in lines:\n",
    "    upcs = line.split(',')\n",
    "    for i in range(len(upcs)):\n",
    "        upcs[i] = upcs[i].strip().replace('[','')\n",
    "        upcs[i] = upcs[i].replace(']','')\n",
    "    products.append(upcs)"
   ]
  },
  {
   "cell_type": "markdown",
   "metadata": {},
   "source": [
    "## Get ASINs"
   ]
  },
  {
   "cell_type": "code",
   "execution_count": 18,
   "metadata": {
    "collapsed": true
   },
   "outputs": [],
   "source": [
    "asins = []\n",
    "for upc_list in products:\n",
    "    asin_set = []\n",
    "    for upc in upc_list:\n",
    "        asin_set.append(UPCtoASIN(upc.strip()))\n",
    "    asins.append(asin_set)    "
   ]
  },
  {
   "cell_type": "code",
   "execution_count": 19,
   "metadata": {
    "collapsed": false
   },
   "outputs": [
    {
     "data": {
      "text/plain": [
       "[['B00WIUEY2U',\n",
       "  'B01GINQDRG',\n",
       "  'B003AB6KI2',\n",
       "  'B01A9NISOW',\n",
       "  'B00I5RHCTM',\n",
       "  'B0019MT9BO',\n",
       "  'B00WIUEME0',\n",
       "  'B00CYBZ080',\n",
       "  'B004KT7UQY',\n",
       "  'B00U1I908Y',\n",
       "  'B00O4K9OJA',\n",
       "  'B0069V9QPO',\n",
       "  'B001EC1Z6Q',\n",
       "  'B004D1H9CY',\n",
       "  'B00WIUCNVO',\n",
       "  'B00CF3QGNA',\n",
       "  'B00WIUA3AW',\n",
       "  'B01A9Q30NS',\n",
       "  'B0069VA6DA',\n",
       "  'B00UTZPRHC',\n",
       "  'B003U24WHC',\n",
       "  'B00O4JVXGI',\n",
       "  'B002AN1GXA',\n",
       "  'B00I5RGK9A',\n",
       "  'B009GOVCYE',\n",
       "  'B014IPCVEK',\n",
       "  'B01A9QKYIC',\n",
       "  'B006BU7WU4',\n",
       "  'B00L7TDS4I',\n",
       "  'B004D1H442',\n",
       "  'B00LE14P3W',\n",
       "  'B00PZ4F3US',\n",
       "  'B00YH94BP0',\n",
       "  'B01A9T40CU',\n",
       "  'B003V2ETW4',\n",
       "  'B00UTZE5SY',\n",
       "  'B00XUOF0HQ',\n",
       "  'B00F3IK23Y',\n",
       "  'B00GGD0UGE',\n",
       "  'B00J6WCAE2',\n",
       "  'B004UOP5FW',\n",
       "  'B005UP2N2I',\n",
       "  'B001A78DT2',\n",
       "  'B00T6XRNNE',\n",
       "  'B0075GLNGW',\n",
       "  'B010E3TG3O',\n",
       "  'B002DN1N12',\n",
       "  'B00SM2LL60',\n",
       "  'B019RSVJ5A',\n",
       "  'B001A72TY2',\n",
       "  'B00T9N3O52',\n",
       "  'B01E4J7G1I',\n",
       "  'B0069V9YJW',\n",
       "  'B0047QFIK0',\n",
       "  'B00MECJLWU',\n",
       "  'B00EVAHNV4',\n",
       "  'B0040WBIAK',\n",
       "  'B015CMFVGI',\n",
       "  'B00D077NQO',\n",
       "  'B00J6WCCQI',\n",
       "  'B00O4K90O4',\n",
       "  'B00I5RHS6E',\n",
       "  'B0069VBSB4',\n",
       "  'B002YFCU02',\n",
       "  'B001F29GXE',\n",
       "  'B003YRHN8I',\n",
       "  'B001PM9Y6I',\n",
       "  'B004UOO31O',\n",
       "  'B004UONRIO',\n",
       "  'B000YPQA1O',\n",
       "  'B004UOO2R4',\n",
       "  'B00FSVTFYI',\n",
       "  'B013VXVJ98',\n",
       "  'B000F6Y668',\n",
       "  'B0179PQCE6',\n",
       "  'B003V2ID8A',\n",
       "  'B00I5RIA7A',\n",
       "  'B01AALWUQU',\n",
       "  'B008OG9IU0',\n",
       "  'B002G7IIMC',\n",
       "  'B00I5RGHNY',\n",
       "  'B0019LEY9C',\n",
       "  'B008OTIAOM',\n",
       "  'B019RSXUJI',\n",
       "  'B00UTZFX9O',\n",
       "  'B019RSWHPQ',\n",
       "  'UPCNOTFOUND',\n",
       "  'B008X6AUL2',\n",
       "  'B0069WFY5E',\n",
       "  'B00UIPRQ5Y',\n",
       "  'B0069VFAJK',\n",
       "  'B00CYFH5D4',\n",
       "  'B013VX7OCY',\n",
       "  'B001LZ93HO',\n",
       "  'B015Q434D4',\n",
       "  'B00426AQCK',\n",
       "  'B003V2EU0A',\n",
       "  'UPCNOTFOUND',\n",
       "  'B0069V9GA4',\n",
       "  'B00YF2KDIS',\n",
       "  'B000YPO12O',\n",
       "  'B010T63X4O',\n",
       "  'B00I5RHL1Q',\n",
       "  'B00O4I0UO0',\n",
       "  'UPCNOTFOUND',\n",
       "  'B009FH0RX4',\n",
       "  'B0037JV3O8',\n",
       "  'B000JWH156',\n",
       "  'B0019MNKHS',\n",
       "  'B000YPMFS6',\n",
       "  'B00GUOSK8O',\n",
       "  'B001A74PBC',\n",
       "  'B01AS888R0',\n",
       "  'B01ARVMOQ4',\n",
       "  'B00PG51FGM',\n",
       "  'B010RFT71K',\n",
       "  'UPCNOTFOUND',\n",
       "  'UPCNOTFOUND',\n",
       "  'B00CHU04UW',\n",
       "  'B019PUX24G',\n",
       "  'UPCNOTFOUND',\n",
       "  'UPCNOTFOUND',\n",
       "  'UPCNOTFOUND'],\n",
       " ['UPClength-0'],\n",
       " ['UPClength-0'],\n",
       " ['B00Y7A847K'],\n",
       " ['B019RSXQD8', 'B00JUQRGFM']]"
      ]
     },
     "execution_count": 19,
     "metadata": {},
     "output_type": "execute_result"
    }
   ],
   "source": [
    "asins"
   ]
  },
  {
   "cell_type": "code",
   "execution_count": 26,
   "metadata": {
    "collapsed": false
   },
   "outputs": [
    {
     "name": "stdout",
     "output_type": "stream",
     "text": [
      "C:\\Users\\cvint\\Desktop\\DSSG Unsafe Foods\\github-unsafe-foods\\DSSG2016-UnsafeFoods\\asins\n"
     ]
    }
   ],
   "source": [
    "cd ../asins"
   ]
  },
  {
   "cell_type": "markdown",
   "metadata": {},
   "source": [
    "<h3>Don't forget to change your file name!</h3>"
   ]
  },
  {
   "cell_type": "code",
   "execution_count": 28,
   "metadata": {
    "collapsed": false
   },
   "outputs": [],
   "source": [
    "with open('asins-1.txt', 'w') as asin_file:\n",
    "    for line in asins:\n",
    "        asin_file.write(str(line)+'\\n')\n",
    "\n",
    "asin_file.close()"
   ]
  }
 ],
 "metadata": {
  "kernelspec": {
   "display_name": "Python 3",
   "language": "python",
   "name": "python3"
  },
  "language_info": {
   "codemirror_mode": {
    "name": "ipython",
    "version": 3
   },
   "file_extension": ".py",
   "mimetype": "text/x-python",
   "name": "python",
   "nbconvert_exporter": "python",
   "pygments_lexer": "ipython3",
   "version": "3.5.1"
  }
 },
 "nbformat": 4,
 "nbformat_minor": 0
}
